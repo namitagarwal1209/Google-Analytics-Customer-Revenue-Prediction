{
 "cells": [
  {
   "cell_type": "markdown",
   "metadata": {},
   "source": [
    "<h1> Google Analytics Customer Revenue Prediction"
   ]
  },
  {
   "cell_type": "markdown",
   "metadata": {},
   "source": [
    "<h2> Data Source</h2>\n",
    "\n",
    "https://www.kaggle.com/c/ga-customer-revenue-prediction/data"
   ]
  },
  {
   "cell_type": "markdown",
   "metadata": {},
   "source": [
    "<h2> What am I predicting?</h2>\n",
    "\n",
    "I'm predicting the natural log of the sum of all transactions per user.\n",
    "\n",
    "Note that the dataset does NOT contain data for December 1st 2018 to January 31st 2019. You must identify the unique fullVisitorIds in the provided test_v2.csv and make predictions for them for those unseen months."
   ]
  },
  {
   "cell_type": "markdown",
   "metadata": {},
   "source": [
    "<h2>File Descriptions</h2>\n",
    "\n",
    "1. <b>train.csv -</b> the updated training set - contains user transactions from August 1st 2016 to April 30th 2018.\n",
    "2. <b>test.csv -</b> the updated test set - contains user transactions from May 1st 2018 to October 15th 2018.\n",
    "3. <b>sample_submission_v2.csv -</b> a updated sample submission file in the correct format. Contains all fullVisitorIds in test_v2.csv. Your submission's PredictedLogRevenue column should make forward-looking predictions for each of these fullVisitorIds for the timeframe of December 1st 2018 to January 31st 2019. Review \"What am I predicting?\" above for details."
   ]
  },
  {
   "cell_type": "markdown",
   "metadata": {},
   "source": [
    "<h2>Data Fields</h2>\n",
    "\n",
    "1. <b>fullVisitorId- </b>A unique identifier for each user of the Google Merchandise Store.\n",
    "2. <b>channelGrouping - </b>The channel via which the user came to the Store.\n",
    "3. <b>date - </b>The date on which the user visited the Store.\n",
    "4. <b>device - </b>The specifications for the device used to access the Store.\n",
    "5. <b>geoNetwork - </b>This section contains information about the geography of the user.\n",
    "6. <b>socialEngagementType - </b>Engagement type, either \"Socially Engaged\" or \"Not Socially Engaged\".\n",
    "7. <b>totals - </b>This section contains aggregate values across the session.\n",
    "8. <b>trafficSource - </b>This section contains information about the Traffic Source from which the session originated.\n",
    "9. <b>visitId -</b> An identifier for this session. This is part of the value usually stored as the _utmb cookie. This is only unique to the user. For a completely unique ID, you should use a combination of fullVisitorId and visitId.\n",
    "10. <b>visitNumber - </b>The session number for this user. If this is the first session, then this is set to 1.\n",
    "11. <b>visitStartTime -</b> The timestamp (expressed as POSIX time).\n",
    "12. <b>hits -</b> This row and nested fields are populated for any and all types of hits. Provides a record of all page visits.\n",
    "13. <b>customDimensions - </b>This section contains any user-level or session-level custom dimensions that are set for a session. This is a repeated field and has an entry for each dimension that is set."
   ]
  },
  {
   "cell_type": "markdown",
   "metadata": {},
   "source": [
    "<h2>Data Size </h2>\n",
    "\n",
    "A total of 1.7 million entries are given as data in the form of train and test dataset.\n",
    "\n",
    "1. Train dataset - 903653 rows\n",
    "2. Test dataset - 804684 rows"
   ]
  },
  {
   "cell_type": "markdown",
   "metadata": {},
   "source": [
    "<h2> To Note -</h2>\n",
    "\n",
    "1. Due to the formatting of fullVisitorId I must load the Id's as strings in order for all Id's to be properly unique!\n",
    "2. There are multiple columns which contain JSON blobs of varying depth. In one of those JSON columns, totals, the sub-column <b>transactionRevenue</b> contains the revenue information we are trying to predict. This sub-column exists only for the training data."
   ]
  },
  {
   "cell_type": "markdown",
   "metadata": {},
   "source": [
    "<h2> Loading libraries</h2>"
   ]
  },
  {
   "cell_type": "code",
   "execution_count": 1,
   "metadata": {},
   "outputs": [],
   "source": [
    "import pandas as pd\n",
    "import numpy as np\n",
    "\n",
    "# File system manangement\n",
    "import os\n",
    "\n",
    "# Suppress warnings \n",
    "import warnings\n",
    "warnings.filterwarnings('ignore')\n",
    "\n",
    "# matplotlib and seaborn for plotting\n",
    "import matplotlib.pyplot as plt\n",
    "import seaborn as sns\n",
    "\n",
    "%matplotlib inline"
   ]
  },
  {
   "cell_type": "markdown",
   "metadata": {},
   "source": [
    "<h2> Loading dataset </h2>\n",
    "\n",
    "<b> Columns with JSON data-</b>\n",
    "    1. device\n",
    "    2. geoNetwork\n",
    "    3. totals\n",
    "    4. trafficSource\n",
    "<b>These columns has to be flattened out.</b>\n",
    "    \n",
    "<H3> Converting columns with JSON data into features</H3>\n",
    "\n",
    "<b> Procedure-</b>\n",
    "    1. load these columns as json type\n",
    "    2. Then apply json_normalize() on these columns. We'll get all the sub-columns in the form of dataframe\n",
    "    3. Remove the json column and add the sub-columns into the main dataframe\n",
    "    "
   ]
  },
  {
   "cell_type": "code",
   "execution_count": 2,
   "metadata": {},
   "outputs": [],
   "source": [
    "import json\n",
    "from pandas.io.json import json_normalize"
   ]
  },
  {
   "cell_type": "code",
   "execution_count": 3,
   "metadata": {},
   "outputs": [],
   "source": [
    "#CITATION: https://www.kaggle.com/julian3833/1-quick-start-read-csv-and-flatten-json-fields/notebook\n",
    "\n",
    "def load_flatten_df(path, nrows=None):\n",
    "    \"\"\"\n",
    "    Rads the CSV data and flattens the JSON fields.\n",
    "    \n",
    "    \"\"\" \n",
    "    json_columns = ['device', 'geoNetwork', 'totals', 'trafficSource']\n",
    "    \n",
    "    #reading the csv file\n",
    "    df = pd.read_csv(path, \n",
    "                     converters={column: json.loads for column in json_columns}, #Decoding JSON, loading those col as json dtype\n",
    "                     dtype={'fullVisitorId': 'str'}, \n",
    "                     nrows=nrows)\n",
    "    \n",
    "    for column in json_columns:  #i.e. for all columns that are in json format\n",
    "        column_as_df = json_normalize(df[column]) #convert the json string into a smaller dataframe with all sub-columns\n",
    "        column_as_df.columns = [f\"{column}.{subcolumn}\" for subcolumn in column_as_df.columns] #adding column name to all the sub-column\n",
    "        df = df.drop(column, axis=1).merge(column_as_df, right_index=True, left_index=True) \n",
    "        #axis=1 means i'm removing the json 'column' from train dataset \n",
    "        #and merging the sub-columns into train dataset\n",
    "    \n",
    "    return df"
   ]
  },
  {
   "cell_type": "code",
   "execution_count": 11,
   "metadata": {},
   "outputs": [],
   "source": [
    "from datetime import datetime"
   ]
  },
  {
   "cell_type": "code",
   "execution_count": 12,
   "metadata": {},
   "outputs": [
    {
     "name": "stdout",
     "output_type": "stream",
     "text": [
      "Time taken: 2\n"
     ]
    }
   ],
   "source": [
    "start = pd.datetime.now().minute\n",
    "\n",
    "train = load_flatten_df(\"train.csv\")\n",
    "\n",
    "print(\"Time taken:\", pd.datetime.now().minute- start)"
   ]
  },
  {
   "cell_type": "code",
   "execution_count": 13,
   "metadata": {},
   "outputs": [
    {
     "name": "stdout",
     "output_type": "stream",
     "text": [
      "Time taken: 4\n"
     ]
    }
   ],
   "source": [
    "start = pd.datetime.now().minute\n",
    "\n",
    "test = load_flatten_df(\"test.csv\")\n",
    "\n",
    "print(\"Time taken:\", pd.datetime.now().minute- start)"
   ]
  },
  {
   "cell_type": "code",
   "execution_count": 3,
   "metadata": {},
   "outputs": [],
   "source": [
    "sample_submission= pd.read_csv(\"sample_submission.csv\")"
   ]
  },
  {
   "cell_type": "code",
   "execution_count": 15,
   "metadata": {},
   "outputs": [],
   "source": [
    "#############\n",
    "train1=train\n",
    "test1= test"
   ]
  },
  {
   "cell_type": "code",
   "execution_count": 318,
   "metadata": {},
   "outputs": [
    {
     "name": "stdout",
     "output_type": "stream",
     "text": [
      "Shape of train dataset: (903653, 55)\n",
      "Shape of test dataset: (804684, 53)\n",
      "Shape of sample_submission dataset: (617242, 2)\n"
     ]
    }
   ],
   "source": [
    "print(\"Shape of train dataset:\", train.shape)\n",
    "print(\"Shape of test dataset:\",test.shape)\n",
    "print(\"Shape of sample_submission dataset:\",sample_submission.shape)"
   ]
  },
  {
   "cell_type": "markdown",
   "metadata": {},
   "source": [
    "<h2> Looking at the dataset</h2>"
   ]
  },
  {
   "cell_type": "code",
   "execution_count": 319,
   "metadata": {},
   "outputs": [
    {
     "data": {
      "text/html": [
       "<div>\n",
       "<style scoped>\n",
       "    .dataframe tbody tr th:only-of-type {\n",
       "        vertical-align: middle;\n",
       "    }\n",
       "\n",
       "    .dataframe tbody tr th {\n",
       "        vertical-align: top;\n",
       "    }\n",
       "\n",
       "    .dataframe thead th {\n",
       "        text-align: right;\n",
       "    }\n",
       "</style>\n",
       "<table border=\"1\" class=\"dataframe\">\n",
       "  <thead>\n",
       "    <tr style=\"text-align: right;\">\n",
       "      <th></th>\n",
       "      <th>channelGrouping</th>\n",
       "      <th>date</th>\n",
       "      <th>fullVisitorId</th>\n",
       "      <th>sessionId</th>\n",
       "      <th>socialEngagementType</th>\n",
       "      <th>visitId</th>\n",
       "      <th>visitNumber</th>\n",
       "      <th>visitStartTime</th>\n",
       "      <th>device.browser</th>\n",
       "      <th>device.browserVersion</th>\n",
       "      <th>...</th>\n",
       "      <th>trafficSource.adwordsClickInfo.criteriaParameters</th>\n",
       "      <th>trafficSource.isTrueDirect</th>\n",
       "      <th>trafficSource.referralPath</th>\n",
       "      <th>trafficSource.adwordsClickInfo.page</th>\n",
       "      <th>trafficSource.adwordsClickInfo.slot</th>\n",
       "      <th>trafficSource.adwordsClickInfo.gclId</th>\n",
       "      <th>trafficSource.adwordsClickInfo.adNetworkType</th>\n",
       "      <th>trafficSource.adwordsClickInfo.isVideoAd</th>\n",
       "      <th>trafficSource.adContent</th>\n",
       "      <th>trafficSource.campaignCode</th>\n",
       "    </tr>\n",
       "  </thead>\n",
       "  <tbody>\n",
       "    <tr>\n",
       "      <td>0</td>\n",
       "      <td>Organic Search</td>\n",
       "      <td>20160902</td>\n",
       "      <td>1131660440785968503</td>\n",
       "      <td>1131660440785968503_1472830385</td>\n",
       "      <td>Not Socially Engaged</td>\n",
       "      <td>1472830385</td>\n",
       "      <td>1</td>\n",
       "      <td>1472830385</td>\n",
       "      <td>Chrome</td>\n",
       "      <td>not available in demo dataset</td>\n",
       "      <td>...</td>\n",
       "      <td>not available in demo dataset</td>\n",
       "      <td>NaN</td>\n",
       "      <td>NaN</td>\n",
       "      <td>NaN</td>\n",
       "      <td>NaN</td>\n",
       "      <td>NaN</td>\n",
       "      <td>NaN</td>\n",
       "      <td>NaN</td>\n",
       "      <td>NaN</td>\n",
       "      <td>NaN</td>\n",
       "    </tr>\n",
       "    <tr>\n",
       "      <td>1</td>\n",
       "      <td>Organic Search</td>\n",
       "      <td>20160902</td>\n",
       "      <td>377306020877927890</td>\n",
       "      <td>377306020877927890_1472880147</td>\n",
       "      <td>Not Socially Engaged</td>\n",
       "      <td>1472880147</td>\n",
       "      <td>1</td>\n",
       "      <td>1472880147</td>\n",
       "      <td>Firefox</td>\n",
       "      <td>not available in demo dataset</td>\n",
       "      <td>...</td>\n",
       "      <td>not available in demo dataset</td>\n",
       "      <td>NaN</td>\n",
       "      <td>NaN</td>\n",
       "      <td>NaN</td>\n",
       "      <td>NaN</td>\n",
       "      <td>NaN</td>\n",
       "      <td>NaN</td>\n",
       "      <td>NaN</td>\n",
       "      <td>NaN</td>\n",
       "      <td>NaN</td>\n",
       "    </tr>\n",
       "  </tbody>\n",
       "</table>\n",
       "<p>2 rows × 55 columns</p>\n",
       "</div>"
      ],
      "text/plain": [
       "  channelGrouping      date        fullVisitorId  \\\n",
       "0  Organic Search  20160902  1131660440785968503   \n",
       "1  Organic Search  20160902   377306020877927890   \n",
       "\n",
       "                        sessionId  socialEngagementType     visitId  \\\n",
       "0  1131660440785968503_1472830385  Not Socially Engaged  1472830385   \n",
       "1   377306020877927890_1472880147  Not Socially Engaged  1472880147   \n",
       "\n",
       "   visitNumber  visitStartTime device.browser          device.browserVersion  \\\n",
       "0            1      1472830385         Chrome  not available in demo dataset   \n",
       "1            1      1472880147        Firefox  not available in demo dataset   \n",
       "\n",
       "   ... trafficSource.adwordsClickInfo.criteriaParameters  \\\n",
       "0  ...                     not available in demo dataset   \n",
       "1  ...                     not available in demo dataset   \n",
       "\n",
       "  trafficSource.isTrueDirect trafficSource.referralPath  \\\n",
       "0                        NaN                        NaN   \n",
       "1                        NaN                        NaN   \n",
       "\n",
       "   trafficSource.adwordsClickInfo.page trafficSource.adwordsClickInfo.slot  \\\n",
       "0                                  NaN                                 NaN   \n",
       "1                                  NaN                                 NaN   \n",
       "\n",
       "  trafficSource.adwordsClickInfo.gclId  \\\n",
       "0                                  NaN   \n",
       "1                                  NaN   \n",
       "\n",
       "  trafficSource.adwordsClickInfo.adNetworkType  \\\n",
       "0                                          NaN   \n",
       "1                                          NaN   \n",
       "\n",
       "  trafficSource.adwordsClickInfo.isVideoAd trafficSource.adContent  \\\n",
       "0                                      NaN                     NaN   \n",
       "1                                      NaN                     NaN   \n",
       "\n",
       "  trafficSource.campaignCode  \n",
       "0                        NaN  \n",
       "1                        NaN  \n",
       "\n",
       "[2 rows x 55 columns]"
      ]
     },
     "execution_count": 319,
     "metadata": {},
     "output_type": "execute_result"
    }
   ],
   "source": [
    "train.head(2)"
   ]
  },
  {
   "cell_type": "markdown",
   "metadata": {},
   "source": [
    "Observation:\n",
    "1. visitId and visitStartTime are same\n",
    "2. sessionId = fullVisitorId_visitId/ fullVisitorId_visitStartTime"
   ]
  },
  {
   "cell_type": "code",
   "execution_count": 320,
   "metadata": {},
   "outputs": [
    {
     "data": {
      "text/plain": [
       "Index(['channelGrouping', 'date', 'fullVisitorId', 'sessionId',\n",
       "       'socialEngagementType', 'visitId', 'visitNumber', 'visitStartTime',\n",
       "       'device.browser', 'device.browserVersion', 'device.browserSize',\n",
       "       'device.operatingSystem', 'device.operatingSystemVersion',\n",
       "       'device.isMobile', 'device.mobileDeviceBranding',\n",
       "       'device.mobileDeviceModel', 'device.mobileInputSelector',\n",
       "       'device.mobileDeviceInfo', 'device.mobileDeviceMarketingName',\n",
       "       'device.flashVersion', 'device.language', 'device.screenColors',\n",
       "       'device.screenResolution', 'device.deviceCategory',\n",
       "       'geoNetwork.continent', 'geoNetwork.subContinent', 'geoNetwork.country',\n",
       "       'geoNetwork.region', 'geoNetwork.metro', 'geoNetwork.city',\n",
       "       'geoNetwork.cityId', 'geoNetwork.networkDomain', 'geoNetwork.latitude',\n",
       "       'geoNetwork.longitude', 'geoNetwork.networkLocation', 'totals.visits',\n",
       "       'totals.hits', 'totals.pageviews', 'totals.bounces', 'totals.newVisits',\n",
       "       'totals.transactionRevenue', 'trafficSource.campaign',\n",
       "       'trafficSource.source', 'trafficSource.medium', 'trafficSource.keyword',\n",
       "       'trafficSource.adwordsClickInfo.criteriaParameters',\n",
       "       'trafficSource.isTrueDirect', 'trafficSource.referralPath',\n",
       "       'trafficSource.adwordsClickInfo.page',\n",
       "       'trafficSource.adwordsClickInfo.slot',\n",
       "       'trafficSource.adwordsClickInfo.gclId',\n",
       "       'trafficSource.adwordsClickInfo.adNetworkType',\n",
       "       'trafficSource.adwordsClickInfo.isVideoAd', 'trafficSource.adContent',\n",
       "       'trafficSource.campaignCode'],\n",
       "      dtype='object')"
      ]
     },
     "execution_count": 320,
     "metadata": {},
     "output_type": "execute_result"
    }
   ],
   "source": [
    "train.columns"
   ]
  },
  {
   "cell_type": "code",
   "execution_count": 321,
   "metadata": {},
   "outputs": [
    {
     "data": {
      "text/plain": [
       "Index(['channelGrouping', 'date', 'fullVisitorId', 'sessionId',\n",
       "       'socialEngagementType', 'visitId', 'visitNumber', 'visitStartTime',\n",
       "       'device.browser', 'device.browserVersion', 'device.browserSize',\n",
       "       'device.operatingSystem', 'device.operatingSystemVersion',\n",
       "       'device.isMobile', 'device.mobileDeviceBranding',\n",
       "       'device.mobileDeviceModel', 'device.mobileInputSelector',\n",
       "       'device.mobileDeviceInfo', 'device.mobileDeviceMarketingName',\n",
       "       'device.flashVersion', 'device.language', 'device.screenColors',\n",
       "       'device.screenResolution', 'device.deviceCategory',\n",
       "       'geoNetwork.continent', 'geoNetwork.subContinent', 'geoNetwork.country',\n",
       "       'geoNetwork.region', 'geoNetwork.metro', 'geoNetwork.city',\n",
       "       'geoNetwork.cityId', 'geoNetwork.networkDomain', 'geoNetwork.latitude',\n",
       "       'geoNetwork.longitude', 'geoNetwork.networkLocation', 'totals.visits',\n",
       "       'totals.hits', 'totals.pageviews', 'totals.newVisits', 'totals.bounces',\n",
       "       'trafficSource.campaign', 'trafficSource.source',\n",
       "       'trafficSource.medium', 'trafficSource.keyword',\n",
       "       'trafficSource.isTrueDirect',\n",
       "       'trafficSource.adwordsClickInfo.criteriaParameters',\n",
       "       'trafficSource.adwordsClickInfo.page',\n",
       "       'trafficSource.adwordsClickInfo.slot',\n",
       "       'trafficSource.adwordsClickInfo.gclId',\n",
       "       'trafficSource.adwordsClickInfo.adNetworkType',\n",
       "       'trafficSource.adwordsClickInfo.isVideoAd',\n",
       "       'trafficSource.referralPath', 'trafficSource.adContent'],\n",
       "      dtype='object')"
      ]
     },
     "execution_count": 321,
     "metadata": {},
     "output_type": "execute_result"
    }
   ],
   "source": [
    "test.columns"
   ]
  },
  {
   "cell_type": "markdown",
   "metadata": {},
   "source": [
    "    2 columns- \n",
    "    1. totals.transactionRevenue\n",
    "    2. trafficSource.campaignCode\n",
    "    \n",
    "    are present in train but not in test dataset"
   ]
  },
  {
   "cell_type": "code",
   "execution_count": 322,
   "metadata": {},
   "outputs": [
    {
     "data": {
      "text/html": [
       "<div>\n",
       "<style scoped>\n",
       "    .dataframe tbody tr th:only-of-type {\n",
       "        vertical-align: middle;\n",
       "    }\n",
       "\n",
       "    .dataframe tbody tr th {\n",
       "        vertical-align: top;\n",
       "    }\n",
       "\n",
       "    .dataframe thead th {\n",
       "        text-align: right;\n",
       "    }\n",
       "</style>\n",
       "<table border=\"1\" class=\"dataframe\">\n",
       "  <thead>\n",
       "    <tr style=\"text-align: right;\">\n",
       "      <th></th>\n",
       "      <th>date</th>\n",
       "      <th>visitId</th>\n",
       "      <th>visitNumber</th>\n",
       "      <th>visitStartTime</th>\n",
       "    </tr>\n",
       "  </thead>\n",
       "  <tbody>\n",
       "    <tr>\n",
       "      <td>count</td>\n",
       "      <td>9.036530e+05</td>\n",
       "      <td>9.036530e+05</td>\n",
       "      <td>903653.000000</td>\n",
       "      <td>9.036530e+05</td>\n",
       "    </tr>\n",
       "    <tr>\n",
       "      <td>mean</td>\n",
       "      <td>2.016589e+07</td>\n",
       "      <td>1.485007e+09</td>\n",
       "      <td>2.264897</td>\n",
       "      <td>1.485007e+09</td>\n",
       "    </tr>\n",
       "    <tr>\n",
       "      <td>std</td>\n",
       "      <td>4.697698e+03</td>\n",
       "      <td>9.022124e+06</td>\n",
       "      <td>9.283735</td>\n",
       "      <td>9.022124e+06</td>\n",
       "    </tr>\n",
       "    <tr>\n",
       "      <td>min</td>\n",
       "      <td>2.016080e+07</td>\n",
       "      <td>1.470035e+09</td>\n",
       "      <td>1.000000</td>\n",
       "      <td>1.470035e+09</td>\n",
       "    </tr>\n",
       "    <tr>\n",
       "      <td>25%</td>\n",
       "      <td>2.016103e+07</td>\n",
       "      <td>1.477561e+09</td>\n",
       "      <td>1.000000</td>\n",
       "      <td>1.477561e+09</td>\n",
       "    </tr>\n",
       "    <tr>\n",
       "      <td>50%</td>\n",
       "      <td>2.017011e+07</td>\n",
       "      <td>1.483949e+09</td>\n",
       "      <td>1.000000</td>\n",
       "      <td>1.483949e+09</td>\n",
       "    </tr>\n",
       "    <tr>\n",
       "      <td>75%</td>\n",
       "      <td>2.017042e+07</td>\n",
       "      <td>1.492759e+09</td>\n",
       "      <td>1.000000</td>\n",
       "      <td>1.492759e+09</td>\n",
       "    </tr>\n",
       "    <tr>\n",
       "      <td>max</td>\n",
       "      <td>2.017080e+07</td>\n",
       "      <td>1.501657e+09</td>\n",
       "      <td>395.000000</td>\n",
       "      <td>1.501657e+09</td>\n",
       "    </tr>\n",
       "  </tbody>\n",
       "</table>\n",
       "</div>"
      ],
      "text/plain": [
       "               date       visitId    visitNumber  visitStartTime\n",
       "count  9.036530e+05  9.036530e+05  903653.000000    9.036530e+05\n",
       "mean   2.016589e+07  1.485007e+09       2.264897    1.485007e+09\n",
       "std    4.697698e+03  9.022124e+06       9.283735    9.022124e+06\n",
       "min    2.016080e+07  1.470035e+09       1.000000    1.470035e+09\n",
       "25%    2.016103e+07  1.477561e+09       1.000000    1.477561e+09\n",
       "50%    2.017011e+07  1.483949e+09       1.000000    1.483949e+09\n",
       "75%    2.017042e+07  1.492759e+09       1.000000    1.492759e+09\n",
       "max    2.017080e+07  1.501657e+09     395.000000    1.501657e+09"
      ]
     },
     "execution_count": 322,
     "metadata": {},
     "output_type": "execute_result"
    }
   ],
   "source": [
    "train.describe()"
   ]
  },
  {
   "cell_type": "code",
   "execution_count": 21,
   "metadata": {},
   "outputs": [
    {
     "data": {
      "text/plain": [
       "channelGrouping                                           8\n",
       "date                                                    366\n",
       "fullVisitorId                                        714167\n",
       "sessionId                                            902755\n",
       "socialEngagementType                                      1\n",
       "visitId                                              886303\n",
       "visitNumber                                             384\n",
       "visitStartTime                                       887159\n",
       "device.browser                                           54\n",
       "device.browserVersion                                     1\n",
       "device.browserSize                                        1\n",
       "device.operatingSystem                                   20\n",
       "device.operatingSystemVersion                             1\n",
       "device.isMobile                                           2\n",
       "device.mobileDeviceBranding                               1\n",
       "device.mobileDeviceModel                                  1\n",
       "device.mobileInputSelector                                1\n",
       "device.mobileDeviceInfo                                   1\n",
       "device.mobileDeviceMarketingName                          1\n",
       "device.flashVersion                                       1\n",
       "device.language                                           1\n",
       "device.screenColors                                       1\n",
       "device.screenResolution                                   1\n",
       "device.deviceCategory                                     3\n",
       "geoNetwork.continent                                      6\n",
       "geoNetwork.subContinent                                  23\n",
       "geoNetwork.country                                      222\n",
       "geoNetwork.region                                       376\n",
       "geoNetwork.metro                                         94\n",
       "geoNetwork.city                                         649\n",
       "geoNetwork.cityId                                         1\n",
       "geoNetwork.networkDomain                              28064\n",
       "geoNetwork.latitude                                       1\n",
       "geoNetwork.longitude                                      1\n",
       "geoNetwork.networkLocation                                1\n",
       "totals.visits                                             1\n",
       "totals.hits                                             274\n",
       "totals.pageviews                                        213\n",
       "totals.bounces                                            1\n",
       "totals.newVisits                                          1\n",
       "totals.transactionRevenue                              5332\n",
       "trafficSource.campaign                                   10\n",
       "trafficSource.source                                    380\n",
       "trafficSource.medium                                      7\n",
       "trafficSource.keyword                                  3659\n",
       "trafficSource.adwordsClickInfo.criteriaParameters         1\n",
       "trafficSource.isTrueDirect                                1\n",
       "trafficSource.referralPath                             1475\n",
       "trafficSource.adwordsClickInfo.page                       8\n",
       "trafficSource.adwordsClickInfo.slot                       2\n",
       "trafficSource.adwordsClickInfo.gclId                  17774\n",
       "trafficSource.adwordsClickInfo.adNetworkType              2\n",
       "trafficSource.adwordsClickInfo.isVideoAd                  1\n",
       "trafficSource.adContent                                  44\n",
       "trafficSource.campaignCode                                1\n",
       "dtype: int64"
      ]
     },
     "execution_count": 21,
     "metadata": {},
     "output_type": "execute_result"
    }
   ],
   "source": [
    "#checking no.of unique elements in each column\n",
    "n = train.nunique()   #nunique()- gives no.of unique elments\n",
    "n"
   ]
  },
  {
   "cell_type": "markdown",
   "metadata": {},
   "source": [
    "<b> Here I can see that many features have only 1 unique element. "
   ]
  },
  {
   "cell_type": "code",
   "execution_count": 22,
   "metadata": {},
   "outputs": [
    {
     "name": "stdout",
     "output_type": "stream",
     "text": [
      "no. of columns with same components in each row: 24\n"
     ]
    }
   ],
   "source": [
    "count=0\n",
    "for i in n:\n",
    "    if i==1: #i.e if #unique elements=1\n",
    "        count+=1\n",
    "print(\"no. of columns with same components in each row:\", count)"
   ]
  },
  {
   "cell_type": "markdown",
   "metadata": {},
   "source": [
    "<b>Let's check what is the one 'unique' element in each row by randomly picking few columns with 1 unique element"
   ]
  },
  {
   "cell_type": "code",
   "execution_count": 23,
   "metadata": {},
   "outputs": [
    {
     "data": {
      "text/plain": [
       "0         not available in demo dataset\n",
       "1         not available in demo dataset\n",
       "2         not available in demo dataset\n",
       "3         not available in demo dataset\n",
       "4         not available in demo dataset\n",
       "                      ...              \n",
       "903648    not available in demo dataset\n",
       "903649    not available in demo dataset\n",
       "903650    not available in demo dataset\n",
       "903651    not available in demo dataset\n",
       "903652    not available in demo dataset\n",
       "Name: device.operatingSystemVersion, Length: 903653, dtype: object"
      ]
     },
     "execution_count": 23,
     "metadata": {},
     "output_type": "execute_result"
    }
   ],
   "source": [
    "#1)\n",
    "train['device.operatingSystemVersion']"
   ]
  },
  {
   "cell_type": "code",
   "execution_count": 24,
   "metadata": {},
   "outputs": [
    {
     "data": {
      "text/plain": [
       "0         1\n",
       "1         1\n",
       "2         1\n",
       "3         1\n",
       "4         1\n",
       "         ..\n",
       "903648    1\n",
       "903649    1\n",
       "903650    1\n",
       "903651    1\n",
       "903652    1\n",
       "Name: totals.visits, Length: 903653, dtype: object"
      ]
     },
     "execution_count": 24,
     "metadata": {},
     "output_type": "execute_result"
    }
   ],
   "source": [
    "#2)\n",
    "train['totals.visits']"
   ]
  },
  {
   "cell_type": "code",
   "execution_count": 25,
   "metadata": {},
   "outputs": [
    {
     "data": {
      "text/plain": [
       "0         NaN\n",
       "1         NaN\n",
       "2         NaN\n",
       "3         NaN\n",
       "4         NaN\n",
       "         ... \n",
       "903648    NaN\n",
       "903649    NaN\n",
       "903650    NaN\n",
       "903651    NaN\n",
       "903652    NaN\n",
       "Name: trafficSource.adwordsClickInfo.isVideoAd, Length: 903653, dtype: object"
      ]
     },
     "execution_count": 25,
     "metadata": {},
     "output_type": "execute_result"
    }
   ],
   "source": [
    "#3)\n",
    "train['trafficSource.adwordsClickInfo.isVideoAd']"
   ]
  },
  {
   "cell_type": "code",
   "execution_count": 26,
   "metadata": {},
   "outputs": [
    {
     "data": {
      "text/plain": [
       "0         Not Socially Engaged\n",
       "1         Not Socially Engaged\n",
       "2         Not Socially Engaged\n",
       "3         Not Socially Engaged\n",
       "4         Not Socially Engaged\n",
       "                  ...         \n",
       "903648    Not Socially Engaged\n",
       "903649    Not Socially Engaged\n",
       "903650    Not Socially Engaged\n",
       "903651    Not Socially Engaged\n",
       "903652    Not Socially Engaged\n",
       "Name: socialEngagementType, Length: 903653, dtype: object"
      ]
     },
     "execution_count": 26,
     "metadata": {},
     "output_type": "execute_result"
    }
   ],
   "source": [
    "#4)\n",
    "train['socialEngagementType']"
   ]
  },
  {
   "cell_type": "markdown",
   "metadata": {},
   "source": [
    "<b>After looking at the above features it's clear that these features won't benefit in any way. So it's better to remove these features.\n",
    "\n"
   ]
  },
  {
   "cell_type": "code",
   "execution_count": 27,
   "metadata": {},
   "outputs": [],
   "source": [
    "#Preparing a list of columns with unique elements=1\n",
    "col_to_remove_train=[]\n",
    "for col in train.columns:\n",
    "    if train[col].nunique()==1:\n",
    "        col_to_remove_train.append(col)"
   ]
  },
  {
   "cell_type": "code",
   "execution_count": 28,
   "metadata": {},
   "outputs": [
    {
     "data": {
      "text/plain": [
       "['socialEngagementType',\n",
       " 'device.browserVersion',\n",
       " 'device.browserSize',\n",
       " 'device.operatingSystemVersion',\n",
       " 'device.mobileDeviceBranding',\n",
       " 'device.mobileDeviceModel',\n",
       " 'device.mobileInputSelector',\n",
       " 'device.mobileDeviceInfo',\n",
       " 'device.mobileDeviceMarketingName',\n",
       " 'device.flashVersion',\n",
       " 'device.language',\n",
       " 'device.screenColors',\n",
       " 'device.screenResolution',\n",
       " 'geoNetwork.cityId',\n",
       " 'geoNetwork.latitude',\n",
       " 'geoNetwork.longitude',\n",
       " 'geoNetwork.networkLocation',\n",
       " 'totals.visits',\n",
       " 'totals.bounces',\n",
       " 'totals.newVisits',\n",
       " 'trafficSource.adwordsClickInfo.criteriaParameters',\n",
       " 'trafficSource.isTrueDirect',\n",
       " 'trafficSource.adwordsClickInfo.isVideoAd',\n",
       " 'trafficSource.campaignCode']"
      ]
     },
     "execution_count": 28,
     "metadata": {},
     "output_type": "execute_result"
    }
   ],
   "source": [
    "col_to_remove_train #these features can be dropped"
   ]
  },
  {
   "cell_type": "markdown",
   "metadata": {},
   "source": [
    "<b>Before dropping these features, it's best to check if the situation is same in test dataset too.  "
   ]
  },
  {
   "cell_type": "code",
   "execution_count": 29,
   "metadata": {},
   "outputs": [
    {
     "name": "stdout",
     "output_type": "stream",
     "text": [
      "['socialEngagementType', 'device.browserVersion', 'device.browserSize', 'device.operatingSystemVersion', 'device.mobileDeviceBranding', 'device.mobileDeviceModel', 'device.mobileInputSelector', 'device.mobileDeviceInfo', 'device.mobileDeviceMarketingName', 'device.flashVersion', 'device.language', 'device.screenColors', 'device.screenResolution', 'geoNetwork.cityId', 'geoNetwork.latitude', 'geoNetwork.longitude', 'geoNetwork.networkLocation', 'totals.visits', 'totals.newVisits', 'totals.bounces', 'trafficSource.isTrueDirect', 'trafficSource.adwordsClickInfo.criteriaParameters', 'trafficSource.adwordsClickInfo.isVideoAd']\n",
      "no. of columns with same components in each row: 23\n"
     ]
    }
   ],
   "source": [
    "#Preparing a list of columns with unique elements=1\n",
    "col_to_remove_test=[]\n",
    "for col in test.columns:\n",
    "    if test[col].nunique()==1:\n",
    "        col_to_remove_test.append(col)\n",
    "print(col_to_remove_test)\n",
    "\n",
    "print(\"no. of columns with same components in each row:\", len(col_to_remove_test))"
   ]
  },
  {
   "cell_type": "markdown",
   "metadata": {},
   "source": [
    "<b>The test dataset does not contain 'trafficSource.campaignCode' feature. Rest 23 features are same and we can remove these columns from both both train and test dataset\n"
   ]
  },
  {
   "cell_type": "code",
   "execution_count": 323,
   "metadata": {},
   "outputs": [
    {
     "name": "stdout",
     "output_type": "stream",
     "text": [
      "Size of train before:  (903653, 55)\n",
      "Size of train after:  (903653, 31)\n",
      "Size of test before:  (804684, 53)\n",
      "Size of test after:  (804684, 30)\n"
     ]
    }
   ],
   "source": [
    "print(\"Size of train before: \", train.shape)\n",
    "train = train.drop(col_to_remove_train,axis =1)\n",
    "print(\"Size of train after: \", train.shape)\n",
    "\n",
    "print(\"Size of test before: \", test.shape)\n",
    "test = test.drop(col_to_remove_test,axis =1)\n",
    "print(\"Size of test after: \", test.shape)"
   ]
  },
  {
   "cell_type": "code",
   "execution_count": 324,
   "metadata": {},
   "outputs": [
    {
     "data": {
      "text/plain": [
       "Index(['channelGrouping', 'date', 'fullVisitorId', 'sessionId', 'visitId',\n",
       "       'visitNumber', 'visitStartTime', 'device.browser',\n",
       "       'device.operatingSystem', 'device.isMobile', 'device.deviceCategory',\n",
       "       'geoNetwork.continent', 'geoNetwork.subContinent', 'geoNetwork.country',\n",
       "       'geoNetwork.region', 'geoNetwork.metro', 'geoNetwork.city',\n",
       "       'geoNetwork.networkDomain', 'totals.hits', 'totals.pageviews',\n",
       "       'totals.transactionRevenue', 'trafficSource.campaign',\n",
       "       'trafficSource.source', 'trafficSource.medium', 'trafficSource.keyword',\n",
       "       'trafficSource.referralPath', 'trafficSource.adwordsClickInfo.page',\n",
       "       'trafficSource.adwordsClickInfo.slot',\n",
       "       'trafficSource.adwordsClickInfo.gclId',\n",
       "       'trafficSource.adwordsClickInfo.adNetworkType',\n",
       "       'trafficSource.adContent'],\n",
       "      dtype='object')"
      ]
     },
     "execution_count": 324,
     "metadata": {},
     "output_type": "execute_result"
    }
   ],
   "source": [
    "train.columns"
   ]
  },
  {
   "cell_type": "markdown",
   "metadata": {},
   "source": [
    "<h2>Handling date feature"
   ]
  },
  {
   "cell_type": "code",
   "execution_count": 325,
   "metadata": {},
   "outputs": [
    {
     "name": "stdout",
     "output_type": "stream",
     "text": [
      "A sample date format now: 20160902\n",
      "<class 'numpy.int64'>\n"
     ]
    }
   ],
   "source": [
    "print(\"A sample date format now:\",train.date[0])\n",
    "print(type(train.date[0])) #type-int"
   ]
  },
  {
   "cell_type": "markdown",
   "metadata": {},
   "source": [
    "<b> So this is in the form yyyymmdd"
   ]
  },
  {
   "cell_type": "code",
   "execution_count": 333,
   "metadata": {},
   "outputs": [],
   "source": [
    "from datetime import datetime"
   ]
  },
  {
   "cell_type": "code",
   "execution_count": 327,
   "metadata": {},
   "outputs": [
    {
     "name": "stdout",
     "output_type": "stream",
     "text": [
      "2016 09 02\n"
     ]
    }
   ],
   "source": [
    "#sample cell\n",
    "\n",
    "#experimenting with the'date' value\n",
    "a=train.date[0] #taking sample\n",
    "\n",
    "#extracting year,month,date from this using slicing\n",
    "year = str(a)[:4]\n",
    "month = str(a)[4:6]\n",
    "date = str(a)[6:]\n",
    "\n",
    "#checking values\n",
    "print(year, month, date)\n",
    "#print(month)\n",
    "#print(date)"
   ]
  },
  {
   "cell_type": "markdown",
   "metadata": {},
   "source": [
    "Adding 3 new columns for month, date and year"
   ]
  },
  {
   "cell_type": "code",
   "execution_count": 328,
   "metadata": {},
   "outputs": [],
   "source": [
    "train['year']= train['date'].apply(lambda x: int(str(x)[:4]))\n",
    "train['month']= train['date'].apply(lambda x: int(str(x)[4:6]))\n",
    "train['Date']= train['date'].apply(lambda x: int(str(x)[6:]))"
   ]
  },
  {
   "cell_type": "code",
   "execution_count": 329,
   "metadata": {},
   "outputs": [],
   "source": [
    "test['year']= test['date'].apply(lambda x: int(str(x)[:4]))\n",
    "test['month']= test['date'].apply(lambda x: int(str(x)[4:6]))\n",
    "test['Date']= test['date'].apply(lambda x: int(str(x)[6:]))"
   ]
  },
  {
   "cell_type": "code",
   "execution_count": 330,
   "metadata": {},
   "outputs": [],
   "source": [
    "#refering above cell \n",
    "#Converting yyyymmdd into yyyy-mm-dd in datetime.data format\n",
    "\n",
    "import datetime\n",
    "\n",
    "train['date'] = train['date'].apply(lambda x: datetime.date(int(str(x)[:4]), int(str(x)[4:6]), int(str(x)[6:])))\n",
    "test['date'] = test['date'].apply(lambda x: datetime.date(int(str(x)[:4]), int(str(x)[4:6]), int(str(x)[6:])))\n",
    "    "
   ]
  },
  {
   "cell_type": "markdown",
   "metadata": {},
   "source": [
    "Adding a new feature 'weekday' "
   ]
  },
  {
   "cell_type": "code",
   "execution_count": 331,
   "metadata": {},
   "outputs": [],
   "source": [
    "#train\n",
    "weekdays=[]\n",
    "for i in train['date']:\n",
    "    weekdays.append(i.weekday())\n",
    "train['weekday']= weekdays\n",
    "\n",
    "#test\n",
    "weekdays=[]\n",
    "for i in test['date']:\n",
    "    weekdays.append(i.weekday())\n",
    "test['weekday']= weekdays"
   ]
  },
  {
   "cell_type": "markdown",
   "metadata": {},
   "source": [
    "Adding another feature 'hour'. Extracting the value of hour from visitStartTime (which is in POSIX format)"
   ]
  },
  {
   "cell_type": "code",
   "execution_count": 334,
   "metadata": {},
   "outputs": [],
   "source": [
    "from datetime import datetime\n",
    "\n",
    "train['hour']= (train['visitStartTime'].apply(lambda x: str(datetime.fromtimestamp(x).hour))).astype(int)\n",
    "test['hour']= (test['visitStartTime'].apply(lambda x: str(datetime.fromtimestamp(x).hour))).astype(int)"
   ]
  },
  {
   "cell_type": "code",
   "execution_count": 335,
   "metadata": {},
   "outputs": [
    {
     "data": {
      "text/html": [
       "<div>\n",
       "<style scoped>\n",
       "    .dataframe tbody tr th:only-of-type {\n",
       "        vertical-align: middle;\n",
       "    }\n",
       "\n",
       "    .dataframe tbody tr th {\n",
       "        vertical-align: top;\n",
       "    }\n",
       "\n",
       "    .dataframe thead th {\n",
       "        text-align: right;\n",
       "    }\n",
       "</style>\n",
       "<table border=\"1\" class=\"dataframe\">\n",
       "  <thead>\n",
       "    <tr style=\"text-align: right;\">\n",
       "      <th></th>\n",
       "      <th>channelGrouping</th>\n",
       "      <th>date</th>\n",
       "      <th>fullVisitorId</th>\n",
       "      <th>sessionId</th>\n",
       "      <th>visitId</th>\n",
       "      <th>visitNumber</th>\n",
       "      <th>visitStartTime</th>\n",
       "      <th>device.browser</th>\n",
       "      <th>device.operatingSystem</th>\n",
       "      <th>device.isMobile</th>\n",
       "      <th>...</th>\n",
       "      <th>trafficSource.adwordsClickInfo.page</th>\n",
       "      <th>trafficSource.adwordsClickInfo.slot</th>\n",
       "      <th>trafficSource.adwordsClickInfo.gclId</th>\n",
       "      <th>trafficSource.adwordsClickInfo.adNetworkType</th>\n",
       "      <th>trafficSource.adContent</th>\n",
       "      <th>year</th>\n",
       "      <th>month</th>\n",
       "      <th>Date</th>\n",
       "      <th>weekday</th>\n",
       "      <th>hour</th>\n",
       "    </tr>\n",
       "  </thead>\n",
       "  <tbody>\n",
       "    <tr>\n",
       "      <td>0</td>\n",
       "      <td>Organic Search</td>\n",
       "      <td>2016-09-02</td>\n",
       "      <td>1131660440785968503</td>\n",
       "      <td>1131660440785968503_1472830385</td>\n",
       "      <td>1472830385</td>\n",
       "      <td>1</td>\n",
       "      <td>1472830385</td>\n",
       "      <td>Chrome</td>\n",
       "      <td>Windows</td>\n",
       "      <td>False</td>\n",
       "      <td>...</td>\n",
       "      <td>NaN</td>\n",
       "      <td>NaN</td>\n",
       "      <td>NaN</td>\n",
       "      <td>NaN</td>\n",
       "      <td>NaN</td>\n",
       "      <td>2016</td>\n",
       "      <td>9</td>\n",
       "      <td>2</td>\n",
       "      <td>4</td>\n",
       "      <td>21</td>\n",
       "    </tr>\n",
       "    <tr>\n",
       "      <td>1</td>\n",
       "      <td>Organic Search</td>\n",
       "      <td>2016-09-02</td>\n",
       "      <td>377306020877927890</td>\n",
       "      <td>377306020877927890_1472880147</td>\n",
       "      <td>1472880147</td>\n",
       "      <td>1</td>\n",
       "      <td>1472880147</td>\n",
       "      <td>Firefox</td>\n",
       "      <td>Macintosh</td>\n",
       "      <td>False</td>\n",
       "      <td>...</td>\n",
       "      <td>NaN</td>\n",
       "      <td>NaN</td>\n",
       "      <td>NaN</td>\n",
       "      <td>NaN</td>\n",
       "      <td>NaN</td>\n",
       "      <td>2016</td>\n",
       "      <td>9</td>\n",
       "      <td>2</td>\n",
       "      <td>4</td>\n",
       "      <td>10</td>\n",
       "    </tr>\n",
       "  </tbody>\n",
       "</table>\n",
       "<p>2 rows × 36 columns</p>\n",
       "</div>"
      ],
      "text/plain": [
       "  channelGrouping        date        fullVisitorId  \\\n",
       "0  Organic Search  2016-09-02  1131660440785968503   \n",
       "1  Organic Search  2016-09-02   377306020877927890   \n",
       "\n",
       "                        sessionId     visitId  visitNumber  visitStartTime  \\\n",
       "0  1131660440785968503_1472830385  1472830385            1      1472830385   \n",
       "1   377306020877927890_1472880147  1472880147            1      1472880147   \n",
       "\n",
       "  device.browser device.operatingSystem  device.isMobile  ...  \\\n",
       "0         Chrome                Windows            False  ...   \n",
       "1        Firefox              Macintosh            False  ...   \n",
       "\n",
       "  trafficSource.adwordsClickInfo.page trafficSource.adwordsClickInfo.slot  \\\n",
       "0                                 NaN                                 NaN   \n",
       "1                                 NaN                                 NaN   \n",
       "\n",
       "  trafficSource.adwordsClickInfo.gclId  \\\n",
       "0                                  NaN   \n",
       "1                                  NaN   \n",
       "\n",
       "  trafficSource.adwordsClickInfo.adNetworkType trafficSource.adContent  year  \\\n",
       "0                                          NaN                     NaN  2016   \n",
       "1                                          NaN                     NaN  2016   \n",
       "\n",
       "  month Date weekday hour  \n",
       "0     9    2       4   21  \n",
       "1     9    2       4   10  \n",
       "\n",
       "[2 rows x 36 columns]"
      ]
     },
     "execution_count": 335,
     "metadata": {},
     "output_type": "execute_result"
    }
   ],
   "source": [
    "train.head(2)"
   ]
  },
  {
   "cell_type": "markdown",
   "metadata": {},
   "source": [
    "<H2> EDA and Feature Engineering"
   ]
  },
  {
   "cell_type": "markdown",
   "metadata": {},
   "source": [
    "<h3>Univariate Analysis"
   ]
  },
  {
   "cell_type": "code",
   "execution_count": 46,
   "metadata": {},
   "outputs": [
    {
     "data": {
      "text/plain": [
       "Organic Search    381561\n",
       "Social            226117\n",
       "Direct            143026\n",
       "Referral          104838\n",
       "Paid Search        25326\n",
       "Affiliates         16403\n",
       "Display             6262\n",
       "(Other)              120\n",
       "Name: channelGrouping, dtype: int64"
      ]
     },
     "execution_count": 46,
     "metadata": {},
     "output_type": "execute_result"
    }
   ],
   "source": [
    "#the channel via which user came to the store\n",
    "train['channelGrouping'].value_counts()"
   ]
  },
  {
   "cell_type": "code",
   "execution_count": 47,
   "metadata": {},
   "outputs": [
    {
     "data": {
      "text/plain": [
       "1      703060\n",
       "2       92548\n",
       "3       35843\n",
       "4       19157\n",
       "5       11615\n",
       "        ...  \n",
       "306         1\n",
       "349         1\n",
       "350         1\n",
       "351         1\n",
       "395         1\n",
       "Name: visitNumber, Length: 384, dtype: int64"
      ]
     },
     "execution_count": 47,
     "metadata": {},
     "output_type": "execute_result"
    }
   ],
   "source": [
    "train['visitNumber'].value_counts()"
   ]
  },
  {
   "cell_type": "markdown",
   "metadata": {},
   "source": [
    "1. visitNumber- tells me about the no. of sessions of the user.\n",
    "2. Looking at above cell result I can conclude that most of the users has undergone 1-5 sessions. \n",
    "3. Vists like 300+ are undergone by a very few users only( probably less than 10). \n",
    "4. Users that visit the store more often actually contribute to the revenue of the store.\n",
    "5. And just as a starter I may conclude that not many people conclude to the revenue of GStore."
   ]
  },
  {
   "cell_type": "markdown",
   "metadata": {},
   "source": [
    "<h3>Looking over 'device' sub-features</h3>\n",
    "\n",
    "device - specifications of device used to access the store"
   ]
  },
  {
   "cell_type": "code",
   "execution_count": 48,
   "metadata": {},
   "outputs": [
    {
     "data": {
      "text/plain": [
       "Text(0.5, 0, 'Browser used')"
      ]
     },
     "execution_count": 48,
     "metadata": {},
     "output_type": "execute_result"
    },
    {
     "data": {
      "image/png": "[encoded data removed]",
      "text/plain": [
       "<Figure size 432x288 with 1 Axes>"
      ]
     },
     "metadata": {
      "needs_background": "light"
     },
     "output_type": "display_data"
    }
   ],
   "source": [
    "train['device.browser'].value_counts()[:20].plot.bar()  #plotting top 20 used browsers\n",
    "plt.ylabel(\"No.of entries\")\n",
    "plt.xlabel(\"Browser used\")"
   ]
  },
  {
   "cell_type": "code",
   "execution_count": 49,
   "metadata": {},
   "outputs": [
    {
     "data": {
      "text/plain": [
       "Text(0.5, 0, 'OS used')"
      ]
     },
     "execution_count": 49,
     "metadata": {},
     "output_type": "execute_result"
    },
    {
     "data": {
      "image/png": "[encoded data removed]",
      "text/plain": [
       "<Figure size 432x288 with 1 Axes>"
      ]
     },
     "metadata": {
      "needs_background": "light"
     },
     "output_type": "display_data"
    }
   ],
   "source": [
    "train['device.operatingSystem'].value_counts().plot.bar()\n",
    "plt.ylabel(\"No.of entries\")\n",
    "plt.xlabel(\"OS used\")"
   ]
  },
  {
   "cell_type": "code",
   "execution_count": 50,
   "metadata": {},
   "outputs": [
    {
     "data": {
      "text/plain": [
       "Text(0.5, 0, 'isMobile?')"
      ]
     },
     "execution_count": 50,
     "metadata": {},
     "output_type": "execute_result"
    },
    {
     "data": {
      "image/png": "[encoded data removed]",
      "text/plain": [
       "<Figure size 432x288 with 1 Axes>"
      ]
     },
     "metadata": {
      "needs_background": "light"
     },
     "output_type": "display_data"
    }
   ],
   "source": [
    "train['device.isMobile'].value_counts().plot.bar()\n",
    "plt.ylabel(\"No.of entries\")\n",
    "plt.xlabel(\"isMobile?\")"
   ]
  },
  {
   "cell_type": "code",
   "execution_count": 51,
   "metadata": {},
   "outputs": [
    {
     "data": {
      "text/plain": [
       "Text(0.5, 0, 'Device Category')"
      ]
     },
     "execution_count": 51,
     "metadata": {},
     "output_type": "execute_result"
    },
    {
     "data": {
      "image/png": "[encoded data removed]",
      "text/plain": [
       "<Figure size 432x288 with 1 Axes>"
      ]
     },
     "metadata": {
      "needs_background": "light"
     },
     "output_type": "display_data"
    }
   ],
   "source": [
    "train['device.deviceCategory'].value_counts().plot.bar()\n",
    "plt.ylabel(\"No.of entries\")\n",
    "plt.xlabel(\"Device Category\")"
   ]
  },
  {
   "cell_type": "markdown",
   "metadata": {},
   "source": [
    "<h3>Looking over 'geoNetwork' sub-features</h3>      "
   ]
  },
  {
   "cell_type": "code",
   "execution_count": 52,
   "metadata": {},
   "outputs": [
    {
     "data": {
      "text/plain": [
       "Text(0.5, 0, 'Continent')"
      ]
     },
     "execution_count": 52,
     "metadata": {},
     "output_type": "execute_result"
    },
    {
     "data": {
      "image/png": "[encoded data removed]",
      "text/plain": [
       "<Figure size 432x288 with 1 Axes>"
      ]
     },
     "metadata": {
      "needs_background": "light"
     },
     "output_type": "display_data"
    }
   ],
   "source": [
    "train['geoNetwork.continent'].value_counts().plot.bar()\n",
    "plt.ylabel(\"No.of entries\")\n",
    "plt.xlabel(\"Continent\")"
   ]
  },
  {
   "cell_type": "code",
   "execution_count": 53,
   "metadata": {},
   "outputs": [
    {
     "data": {
      "text/plain": [
       "Text(0.5, 0, 'Sub-Continent')"
      ]
     },
     "execution_count": 53,
     "metadata": {},
     "output_type": "execute_result"
    },
    {
     "data": {
      "image/png": "[encoded data removed]",
      "text/plain": [
       "<Figure size 432x288 with 1 Axes>"
      ]
     },
     "metadata": {
      "needs_background": "light"
     },
     "output_type": "display_data"
    }
   ],
   "source": [
    "train['geoNetwork.subContinent'].value_counts().plot.bar()\n",
    "plt.ylabel(\"No.of entries\")\n",
    "plt.xlabel(\"Sub-Continent\")"
   ]
  },
  {
   "cell_type": "code",
   "execution_count": 54,
   "metadata": {},
   "outputs": [
    {
     "data": {
      "text/plain": [
       "Text(0.5, 0, 'Country')"
      ]
     },
     "execution_count": 54,
     "metadata": {},
     "output_type": "execute_result"
    },
    {
     "data": {
      "image/png": "[encoded data removed]",
      "text/plain": [
       "<Figure size 432x288 with 1 Axes>"
      ]
     },
     "metadata": {
      "needs_background": "light"
     },
     "output_type": "display_data"
    }
   ],
   "source": [
    "train['geoNetwork.country'].value_counts()[:20].plot.bar()\n",
    "plt.ylabel(\"No.of entries\")\n",
    "plt.xlabel(\"Country\")"
   ]
  },
  {
   "cell_type": "code",
   "execution_count": 55,
   "metadata": {},
   "outputs": [
    {
     "data": {
      "text/plain": [
       "Text(0.5, 0, 'Region')"
      ]
     },
     "execution_count": 55,
     "metadata": {},
     "output_type": "execute_result"
    },
    {
     "data": {
      "image/png": "[encoded data removed]",
      "text/plain": [
       "<Figure size 432x288 with 1 Axes>"
      ]
     },
     "metadata": {
      "needs_background": "light"
     },
     "output_type": "display_data"
    }
   ],
   "source": [
    "train['geoNetwork.region'].value_counts()[:20].plot.bar()\n",
    "plt.ylabel(\"No.of entries\")\n",
    "plt.xlabel(\"Region\")"
   ]
  },
  {
   "cell_type": "code",
   "execution_count": 56,
   "metadata": {},
   "outputs": [
    {
     "data": {
      "text/plain": [
       "Text(0.5, 0, 'Metro')"
      ]
     },
     "execution_count": 56,
     "metadata": {},
     "output_type": "execute_result"
    },
    {
     "data": {
      "image/png": "[encoded data removed]",
      "text/plain": [
       "<Figure size 432x288 with 1 Axes>"
      ]
     },
     "metadata": {
      "needs_background": "light"
     },
     "output_type": "display_data"
    }
   ],
   "source": [
    "train['geoNetwork.metro'].value_counts()[:20].plot.bar()\n",
    "plt.ylabel(\"No.of entries\")\n",
    "plt.xlabel(\"Metro\")"
   ]
  },
  {
   "cell_type": "code",
   "execution_count": 57,
   "metadata": {},
   "outputs": [
    {
     "data": {
      "text/plain": [
       "Text(0.5, 0, 'City')"
      ]
     },
     "execution_count": 57,
     "metadata": {},
     "output_type": "execute_result"
    },
    {
     "data": {
      "image/png": "[encoded data removed]",
      "text/plain": [
       "<Figure size 432x288 with 1 Axes>"
      ]
     },
     "metadata": {
      "needs_background": "light"
     },
     "output_type": "display_data"
    }
   ],
   "source": [
    "train['geoNetwork.city'].value_counts()[:20].plot.bar()\n",
    "plt.ylabel(\"No.of entries\")\n",
    "plt.xlabel(\"City\")"
   ]
  },
  {
   "cell_type": "code",
   "execution_count": 58,
   "metadata": {},
   "outputs": [
    {
     "data": {
      "text/plain": [
       "Text(0.5, 0, 'Network Domain')"
      ]
     },
     "execution_count": 58,
     "metadata": {},
     "output_type": "execute_result"
    },
    {
     "data": {
      "image/png": "[encoded data removed]",
      "text/plain": [
       "<Figure size 432x288 with 1 Axes>"
      ]
     },
     "metadata": {
      "needs_background": "light"
     },
     "output_type": "display_data"
    }
   ],
   "source": [
    "train['geoNetwork.networkDomain'].value_counts()[:20].plot.bar()\n",
    "plt.ylabel(\"No.of entries\")\n",
    "plt.xlabel(\"Network Domain\")"
   ]
  },
  {
   "cell_type": "markdown",
   "metadata": {},
   "source": [
    "<b> Observation-</b> A major portion of rows in geoNetwork.region, geoNetwork.metro, geoNetwork.city has 'not available in demo data' as value"
   ]
  },
  {
   "cell_type": "markdown",
   "metadata": {},
   "source": [
    "<h3>Looking over 'total' sub-features</h3>"
   ]
  },
  {
   "cell_type": "code",
   "execution_count": 59,
   "metadata": {},
   "outputs": [
    {
     "data": {
      "text/plain": [
       "1      446754\n",
       "2      137952\n",
       "3       70402\n",
       "4       42444\n",
       "5       30939\n",
       "        ...  \n",
       "178         1\n",
       "239         1\n",
       "483         1\n",
       "183         1\n",
       "357         1\n",
       "Name: totals.hits, Length: 274, dtype: int64"
      ]
     },
     "execution_count": 59,
     "metadata": {},
     "output_type": "execute_result"
    }
   ],
   "source": [
    "train['totals.hits'].value_counts()"
   ]
  },
  {
   "cell_type": "code",
   "execution_count": 60,
   "metadata": {},
   "outputs": [
    {
     "data": {
      "text/plain": [
       "1      452522\n",
       "2      143770\n",
       "3       73835\n",
       "4       45192\n",
       "5       33411\n",
       "        ...  \n",
       "300         1\n",
       "164         1\n",
       "275         1\n",
       "154         1\n",
       "162         1\n",
       "Name: totals.pageviews, Length: 213, dtype: int64"
      ]
     },
     "execution_count": 60,
     "metadata": {},
     "output_type": "execute_result"
    }
   ],
   "source": [
    "train['totals.pageviews'].value_counts()"
   ]
  },
  {
   "cell_type": "code",
   "execution_count": 61,
   "metadata": {},
   "outputs": [
    {
     "data": {
      "text/plain": [
       "16990000     256\n",
       "18990000     189\n",
       "33590000     187\n",
       "44790000     170\n",
       "13590000     135\n",
       "            ... \n",
       "56730000       1\n",
       "158560000      1\n",
       "523390000      1\n",
       "73740000       1\n",
       "16930000       1\n",
       "Name: totals.transactionRevenue, Length: 5332, dtype: int64"
      ]
     },
     "execution_count": 61,
     "metadata": {},
     "output_type": "execute_result"
    }
   ],
   "source": [
    "train['totals.transactionRevenue'].value_counts()"
   ]
  },
  {
   "cell_type": "markdown",
   "metadata": {},
   "source": [
    "Adding these new features to the dataset-\n",
    "\n",
    "1. mean\n",
    "2. median\n",
    "3. min\n",
    "4. max\n",
    "5. sum\n",
    "   of \n",
    "    1. total.hits\n",
    "    2. total.pageviews, \n",
    "   per unique visitor per day"
   ]
  },
  {
   "cell_type": "code",
   "execution_count": 358,
   "metadata": {},
   "outputs": [],
   "source": [
    "#Originally the values were of string type and had to be converted to type float for further grouping\n",
    "train['totals.hits']= [float(x) for x in train['totals.hits']]\n",
    "train['totals.pageviews']= [float(x) for x in train['totals.pageviews']]\n",
    "\n",
    "test['totals.hits']= [float(x) for x in test['totals.hits']]\n",
    "test['totals.pageviews']= [float(x) for x in test['totals.pageviews']]"
   ]
  },
  {
   "cell_type": "code",
   "execution_count": 359,
   "metadata": {},
   "outputs": [
    {
     "name": "stdout",
     "output_type": "stream",
     "text": [
      "(903653, 46)\n",
      "(804684, 35)\n"
     ]
    }
   ],
   "source": [
    "print(train.shape)\n",
    "print(test.shape)"
   ]
  },
  {
   "cell_type": "code",
   "execution_count": 351,
   "metadata": {},
   "outputs": [],
   "source": [
    "per_visitor_train = train.groupby(['fullVisitorId']).agg('sum')"
   ]
  },
  {
   "cell_type": "code",
   "execution_count": 352,
   "metadata": {},
   "outputs": [],
   "source": [
    "per_visitor_train['fullVisitorId'] = per_visitor_train.index #adding fullVisitorId so that we can map this dataset to our train dataset"
   ]
  },
  {
   "cell_type": "code",
   "execution_count": 354,
   "metadata": {},
   "outputs": [],
   "source": [
    "per_visitor_train['mean_hits_per_day'] = per_visitor_train.groupby(['Date'])['totals.hits'].transform('mean')\n",
    "per_visitor_train['median_hits_per_day'] = per_visitor_train.groupby(['Date'])['totals.hits'].transform('median')\n",
    "per_visitor_train['sum_hits_per_day'] = per_visitor_train.groupby(['Date'])['totals.hits'].transform('sum')\n",
    "per_visitor_train['min_hits_per_day'] = per_visitor_train.groupby(['Date'])['totals.hits'].transform('min')\n",
    "per_visitor_train['max_hits_per_day'] = per_visitor_train.groupby(['Date'])['totals.hits'].transform('max')\n",
    "\n",
    "per_visitor_train['mean_pageviews_per_day'] = per_visitor_train.groupby(['Date'])['totals.pageviews'].transform('mean')\n",
    "per_visitor_train['median_pageviews_per_day'] = per_visitor_train.groupby(['Date'])['totals.pageviews'].transform('median')\n",
    "per_visitor_train['sum_pageviews_per_day'] = per_visitor_train.groupby(['Date'])['totals.pageviews'].transform('sum')\n",
    "per_visitor_train['min_pageviews_per_day'] = per_visitor_train.groupby(['Date'])['totals.pageviews'].transform('min')\n",
    "per_visitor_train['max_pageviews_per_day'] = per_visitor_train.groupby(['Date'])['totals.pageviews'].transform('max')"
   ]
  },
  {
   "cell_type": "code",
   "execution_count": 355,
   "metadata": {},
   "outputs": [],
   "source": [
    "per_visitor_train = per_visitor_train[['fullVisitorId', 'mean_hits_per_day','median_hits_per_day','sum_hits_per_day','min_hits_per_day','max_hits_per_day','mean_pageviews_per_day','median_pageviews_per_day','sum_pageviews_per_day','min_pageviews_per_day','max_pageviews_per_day']]\n",
    "#per_visitor_train.head(1)\n",
    "\n",
    "train = train.join(per_visitor_train, on='fullVisitorId', how='inner', rsuffix='_') #mapping on fullVisitorId\n",
    "train.drop(['fullVisitorId_'], axis=1, inplace=True)"
   ]
  },
  {
   "cell_type": "code",
   "execution_count": 356,
   "metadata": {},
   "outputs": [
    {
     "data": {
      "text/html": [
       "<div>\n",
       "<style scoped>\n",
       "    .dataframe tbody tr th:only-of-type {\n",
       "        vertical-align: middle;\n",
       "    }\n",
       "\n",
       "    .dataframe tbody tr th {\n",
       "        vertical-align: top;\n",
       "    }\n",
       "\n",
       "    .dataframe thead th {\n",
       "        text-align: right;\n",
       "    }\n",
       "</style>\n",
       "<table border=\"1\" class=\"dataframe\">\n",
       "  <thead>\n",
       "    <tr style=\"text-align: right;\">\n",
       "      <th></th>\n",
       "      <th>channelGrouping</th>\n",
       "      <th>date</th>\n",
       "      <th>fullVisitorId</th>\n",
       "      <th>sessionId</th>\n",
       "      <th>visitId</th>\n",
       "      <th>visitNumber</th>\n",
       "      <th>visitStartTime</th>\n",
       "      <th>device.browser</th>\n",
       "      <th>device.operatingSystem</th>\n",
       "      <th>device.isMobile</th>\n",
       "      <th>...</th>\n",
       "      <th>mean_hits_per_day</th>\n",
       "      <th>median_hits_per_day</th>\n",
       "      <th>sum_hits_per_day</th>\n",
       "      <th>min_hits_per_day</th>\n",
       "      <th>max_hits_per_day</th>\n",
       "      <th>mean_pageviews_per_day</th>\n",
       "      <th>median_pageviews_per_day</th>\n",
       "      <th>sum_pageviews_per_day</th>\n",
       "      <th>min_pageviews_per_day</th>\n",
       "      <th>max_pageviews_per_day</th>\n",
       "    </tr>\n",
       "  </thead>\n",
       "  <tbody>\n",
       "    <tr>\n",
       "      <td>0</td>\n",
       "      <td>Organic Search</td>\n",
       "      <td>2016-09-02</td>\n",
       "      <td>1131660440785968503</td>\n",
       "      <td>1131660440785968503_1472830385</td>\n",
       "      <td>1472830385</td>\n",
       "      <td>1</td>\n",
       "      <td>1472830385</td>\n",
       "      <td>Chrome</td>\n",
       "      <td>Windows</td>\n",
       "      <td>False</td>\n",
       "      <td>...</td>\n",
       "      <td>3.943076</td>\n",
       "      <td>1.0</td>\n",
       "      <td>83747.0</td>\n",
       "      <td>1.0</td>\n",
       "      <td>233.0</td>\n",
       "      <td>3.371298</td>\n",
       "      <td>1.0</td>\n",
       "      <td>71603.0</td>\n",
       "      <td>1.0</td>\n",
       "      <td>176.0</td>\n",
       "    </tr>\n",
       "    <tr>\n",
       "      <td>1</td>\n",
       "      <td>Organic Search</td>\n",
       "      <td>2016-09-02</td>\n",
       "      <td>377306020877927890</td>\n",
       "      <td>377306020877927890_1472880147</td>\n",
       "      <td>1472880147</td>\n",
       "      <td>1</td>\n",
       "      <td>1472880147</td>\n",
       "      <td>Firefox</td>\n",
       "      <td>Macintosh</td>\n",
       "      <td>False</td>\n",
       "      <td>...</td>\n",
       "      <td>3.943076</td>\n",
       "      <td>1.0</td>\n",
       "      <td>83747.0</td>\n",
       "      <td>1.0</td>\n",
       "      <td>233.0</td>\n",
       "      <td>3.371298</td>\n",
       "      <td>1.0</td>\n",
       "      <td>71603.0</td>\n",
       "      <td>1.0</td>\n",
       "      <td>176.0</td>\n",
       "    </tr>\n",
       "  </tbody>\n",
       "</table>\n",
       "<p>2 rows × 46 columns</p>\n",
       "</div>"
      ],
      "text/plain": [
       "  channelGrouping        date        fullVisitorId  \\\n",
       "0  Organic Search  2016-09-02  1131660440785968503   \n",
       "1  Organic Search  2016-09-02   377306020877927890   \n",
       "\n",
       "                        sessionId     visitId  visitNumber  visitStartTime  \\\n",
       "0  1131660440785968503_1472830385  1472830385            1      1472830385   \n",
       "1   377306020877927890_1472880147  1472880147            1      1472880147   \n",
       "\n",
       "  device.browser device.operatingSystem  device.isMobile  ...  \\\n",
       "0         Chrome                Windows            False  ...   \n",
       "1        Firefox              Macintosh            False  ...   \n",
       "\n",
       "  mean_hits_per_day median_hits_per_day sum_hits_per_day min_hits_per_day  \\\n",
       "0          3.943076                 1.0          83747.0              1.0   \n",
       "1          3.943076                 1.0          83747.0              1.0   \n",
       "\n",
       "  max_hits_per_day mean_pageviews_per_day median_pageviews_per_day  \\\n",
       "0            233.0               3.371298                      1.0   \n",
       "1            233.0               3.371298                      1.0   \n",
       "\n",
       "  sum_pageviews_per_day  min_pageviews_per_day  max_pageviews_per_day  \n",
       "0               71603.0                    1.0                  176.0  \n",
       "1               71603.0                    1.0                  176.0  \n",
       "\n",
       "[2 rows x 46 columns]"
      ]
     },
     "execution_count": 356,
     "metadata": {},
     "output_type": "execute_result"
    }
   ],
   "source": [
    "train.head(2)"
   ]
  },
  {
   "cell_type": "code",
   "execution_count": 360,
   "metadata": {},
   "outputs": [],
   "source": [
    "per_visitor_test = test.groupby(['fullVisitorId']).agg('sum')\n",
    "per_visitor_test['fullVisitorId'] = per_visitor_test.index\n",
    "\n",
    "per_visitor_test['mean_hits_per_day'] = per_visitor_test.groupby(['Date'])['totals.hits'].transform('mean')\n",
    "per_visitor_test['median_hits_per_day'] = per_visitor_test.groupby(['Date'])['totals.hits'].transform('median')\n",
    "per_visitor_test['sum_hits_per_day'] = per_visitor_test.groupby(['Date'])['totals.hits'].transform('sum')\n",
    "per_visitor_test['min_hits_per_day'] = per_visitor_test.groupby(['Date'])['totals.hits'].transform('min')\n",
    "per_visitor_test['max_hits_per_day'] = per_visitor_test.groupby(['Date'])['totals.hits'].transform('max')\n",
    "\n",
    "per_visitor_test['mean_pageviews_per_day'] = per_visitor_test.groupby(['Date'])['totals.pageviews'].transform('mean')\n",
    "per_visitor_test['median_pageviews_per_day'] = per_visitor_test.groupby(['Date'])['totals.pageviews'].transform('median')\n",
    "per_visitor_test['sum_pageviews_per_day'] = per_visitor_test.groupby(['Date'])['totals.pageviews'].transform('sum')\n",
    "per_visitor_test['min_pageviews_per_day'] = per_visitor_test.groupby(['Date'])['totals.pageviews'].transform('min')\n",
    "per_visitor_test['max_pageviews_per_day'] = per_visitor_test.groupby(['Date'])['totals.pageviews'].transform('max')\n",
    "\n",
    "per_visitor_test = per_visitor_test[['fullVisitorId', 'mean_hits_per_day','median_hits_per_day','sum_hits_per_day','min_hits_per_day','max_hits_per_day','mean_pageviews_per_day','median_pageviews_per_day','sum_pageviews_per_day','min_pageviews_per_day','max_pageviews_per_day']]\n",
    "#per_visitor_train.head(1)\n",
    "\n",
    "test = test.join(per_visitor_test, on='fullVisitorId', how='inner', rsuffix='_') #mapping on fullVisitorId\n",
    "test.drop(['fullVisitorId_'], axis=1, inplace=True)"
   ]
  },
  {
   "cell_type": "code",
   "execution_count": 361,
   "metadata": {},
   "outputs": [
    {
     "name": "stdout",
     "output_type": "stream",
     "text": [
      "(903653, 46)\n",
      "(804684, 45)\n"
     ]
    }
   ],
   "source": [
    "print(train.shape)\n",
    "print(test.shape)"
   ]
  },
  {
   "cell_type": "code",
   "execution_count": null,
   "metadata": {},
   "outputs": [],
   "source": []
  },
  {
   "cell_type": "markdown",
   "metadata": {},
   "source": [
    "<h3>Looking over 'trafficSource' sub-features</h3>"
   ]
  },
  {
   "cell_type": "code",
   "execution_count": 62,
   "metadata": {},
   "outputs": [
    {
     "data": {
      "text/plain": [
       "<matplotlib.axes._subplots.AxesSubplot at 0x2f107e7d0>"
      ]
     },
     "execution_count": 62,
     "metadata": {},
     "output_type": "execute_result"
    },
    {
     "data": {
      "image/png": "[encoded data removed]",
      "text/plain": [
       "<Figure size 432x288 with 1 Axes>"
      ]
     },
     "metadata": {
      "needs_background": "light"
     },
     "output_type": "display_data"
    }
   ],
   "source": [
    "train['trafficSource.source'].value_counts()[:20].plot.bar()"
   ]
  },
  {
   "cell_type": "code",
   "execution_count": 63,
   "metadata": {},
   "outputs": [
    {
     "data": {
      "text/plain": [
       "<matplotlib.axes._subplots.AxesSubplot at 0x2f0fb8690>"
      ]
     },
     "execution_count": 63,
     "metadata": {},
     "output_type": "execute_result"
    },
    {
     "data": {
      "image/png": "[encoded data removed]",
      "text/plain": [
       "<Figure size 432x288 with 1 Axes>"
      ]
     },
     "metadata": {
      "needs_background": "light"
     },
     "output_type": "display_data"
    }
   ],
   "source": [
    "train['trafficSource.medium'].value_counts().plot.bar()"
   ]
  },
  {
   "cell_type": "code",
   "execution_count": 64,
   "metadata": {},
   "outputs": [
    {
     "data": {
      "text/plain": [
       "(not provided)                                     366363\n",
       "6qEhsCssdK0z36ri                                    11503\n",
       "(Remarketing/Content targeting)                      2298\n",
       "1hZbAqLCbjwfgOH7                                     2264\n",
       "google merchandise store                             2209\n",
       "                                                    ...  \n",
       "youtuber printed t shirt online buy                     1\n",
       "Google logo t-shirt                                     1\n",
       "gadget online store                                     1\n",
       "google view malaysia                                    1\n",
       "boneka yang berfungsi untuk menghalyskan tshirt         1\n",
       "Name: trafficSource.keyword, Length: 3659, dtype: int64"
      ]
     },
     "execution_count": 64,
     "metadata": {},
     "output_type": "execute_result"
    }
   ],
   "source": [
    "train['trafficSource.keyword'].value_counts()"
   ]
  },
  {
   "cell_type": "code",
   "execution_count": 65,
   "metadata": {},
   "outputs": [
    {
     "data": {
      "text/plain": [
       "1     21362\n",
       "2        73\n",
       "3        10\n",
       "5         7\n",
       "7         3\n",
       "9         2\n",
       "4         2\n",
       "14        1\n",
       "Name: trafficSource.adwordsClickInfo.page, dtype: int64"
      ]
     },
     "execution_count": 65,
     "metadata": {},
     "output_type": "execute_result"
    }
   ],
   "source": [
    "train['trafficSource.adwordsClickInfo.page'].value_counts() "
   ]
  },
  {
   "cell_type": "code",
   "execution_count": 66,
   "metadata": {},
   "outputs": [
    {
     "data": {
      "text/plain": [
       "Top    20956\n",
       "RHS      504\n",
       "Name: trafficSource.adwordsClickInfo.slot, dtype: int64"
      ]
     },
     "execution_count": 66,
     "metadata": {},
     "output_type": "execute_result"
    }
   ],
   "source": [
    "train['trafficSource.adwordsClickInfo.slot'].value_counts() "
   ]
  },
  {
   "cell_type": "code",
   "execution_count": 67,
   "metadata": {},
   "outputs": [
    {
     "data": {
      "text/plain": [
       "Cj0KEQjwmIrJBRCRmJ_x7KDo-9oBEiQAuUPKMufMpuG3ZdwYO8GTsjiBFd5MPHStZa9y_9NCrI8X97oaAglc8P8HAQ      70\n",
       "Cj0KEQjw1ee_BRD3hK6x993YzeoBEiQA5RH_BEA562M9tvl_mtnAFvtDnDqOQRp1RvxMMgwjcX1LAfwaAj4o8P8HAQ      41\n",
       "CJH1vbf94M8CFUElgQodyakHgQ                                                                      29\n",
       "Cj0KEQiAw_DEBRChnYiQ_562gsEBEiQA4LcssmB_RWgvpPnltzlzj5rGwqx5lk87wC5CjfcqzneNZewaAiAp8P8HAQ      27\n",
       "CjwKEAiAj7TCBRCp2Z22ue-zrj4SJACG7SBEJui6ggr6ocA-eDC2-lX7W1m5IA1c_qNbzwZVTqUanxoCb5rw_wcB        24\n",
       "                                                                                                ..\n",
       "Cj0KEQjwpZO_BRDym6K_nMye7cEBEiQAVA7RaFY32mLAlcFQ189RWUEB-pItqkbm-JLmcIY9sVlEd08aAj_R8P8HAQ       1\n",
       "CJ6H48LEvNECFUtYDQod2oMAsA                                                                       1\n",
       "CjwKEAiAmdXBBRD0hZCVkYHTl20SJACWsZj9MZb4EJXThlnR08yRTpcqu0qB0IDlbLVWV7paMikC-xoCEiHw_wcB         1\n",
       "CJShxsHKv9ECFdc7gQodn-sKBA                                                                       1\n",
       "Cj0KCQjwja_JBRD8ARIsAHitdbntTqdX359Df0bvEmBw2bnAK2sHyOvdZCpiPivk2AtjGto1MpKgVZ8aAn6SEALw_wcB     1\n",
       "Name: trafficSource.adwordsClickInfo.gclId, Length: 17774, dtype: int64"
      ]
     },
     "execution_count": 67,
     "metadata": {},
     "output_type": "execute_result"
    }
   ],
   "source": [
    "train['trafficSource.adwordsClickInfo.gclId'].value_counts() "
   ]
  },
  {
   "cell_type": "code",
   "execution_count": 68,
   "metadata": {},
   "outputs": [
    {
     "data": {
      "text/plain": [
       "Google Search      21453\n",
       "Search partners        7\n",
       "Name: trafficSource.adwordsClickInfo.adNetworkType, dtype: int64"
      ]
     },
     "execution_count": 68,
     "metadata": {},
     "output_type": "execute_result"
    }
   ],
   "source": [
    "train['trafficSource.adwordsClickInfo.adNetworkType'].value_counts() "
   ]
  },
  {
   "cell_type": "code",
   "execution_count": 69,
   "metadata": {},
   "outputs": [
    {
     "data": {
      "text/plain": [
       "(not set)                                          865347\n",
       "Data Share Promo                                    16403\n",
       "AW - Dynamic Search Ads Whole Site                  14244\n",
       "AW - Accessories                                     7070\n",
       "test-liyuhz                                           392\n",
       "AW - Electronics                                       96\n",
       "Retail (DO NOT EDIT owners nophakun and tianyu)        50\n",
       "AW - Apparel                                           46\n",
       "All Products                                            4\n",
       "Data Share                                              1\n",
       "Name: trafficSource.campaign, dtype: int64"
      ]
     },
     "execution_count": 69,
     "metadata": {},
     "output_type": "execute_result"
    }
   ],
   "source": [
    "train['trafficSource.campaign'].value_counts() "
   ]
  },
  {
   "cell_type": "code",
   "execution_count": 70,
   "metadata": {},
   "outputs": [
    {
     "data": {
      "text/plain": [
       "Google Merchandise Collection                  5122\n",
       "Google Online Store                            1245\n",
       "Display Ad created 3/11/14                      967\n",
       "Full auto ad IMAGE ONLY                         822\n",
       "Ad from 12/13/16                                610\n",
       "Ad from 11/3/16                                 489\n",
       "Display Ad created 3/11/15                      392\n",
       "{KeyWord:Google Brand Items}                    251\n",
       "{KeyWord:Google Merchandise}                    155\n",
       "Ad from 11/7/16                                 123\n",
       "First Full Auto Template Test Ad                 87\n",
       "Google Merchandise                               87\n",
       "20% discount                                     75\n",
       "{KeyWord:Google Branded Gear}                    67\n",
       "{KeyWord:Looking for Google Bags?}               65\n",
       "Swag with Google Logos                           64\n",
       "Display Ad created 11/17/14                      50\n",
       "{KeyWord:Want Google Stickers?}                  42\n",
       "JD_5a_v1                                         41\n",
       "{KeyWord:Google Drinkware}                       32\n",
       "{KeyWord:Google Men's T-Shirts}                  30\n",
       "LeEco_1a                                         25\n",
       "{KeyWord:Google Branded Kit}                     16\n",
       "Full auto ad TEXT ONLY                           16\n",
       "{KeyWord:Google Branded Apparel}                 10\n",
       "Want Google Sunglasses                            8\n",
       "Full auto ad TEXT/NATIVE                          7\n",
       "Google Paraphernalia                              7\n",
       "{KeyWord:Google Branded Outerwear}                5\n",
       "{KeyWord:Want Google Pet Toys?}                   4\n",
       "Google Store                                      4\n",
       "Official Google Merchandise - Fast Shipping       4\n",
       "Full auto ad NATIVE ONLY                          3\n",
       "Full auto ad with Primary Color                   3\n",
       "Ad from 2/17/17                                   3\n",
       "free shipping                                     3\n",
       "url_builder                                       3\n",
       "Free Shipping!                                    2\n",
       "Google store                                      2\n",
       "Swag w/ Google Logos                              1\n",
       "GA Help Center                                    1\n",
       "visit us again                                    1\n",
       "Men's-Outerwear Google Apparel                    1\n",
       "google store                                      1\n",
       "Name: trafficSource.adContent, dtype: int64"
      ]
     },
     "execution_count": 70,
     "metadata": {},
     "output_type": "execute_result"
    }
   ],
   "source": [
    "train['trafficSource.adContent'].value_counts()"
   ]
  },
  {
   "cell_type": "markdown",
   "metadata": {},
   "source": [
    "<h3>Checking for Missing values"
   ]
  },
  {
   "cell_type": "code",
   "execution_count": 71,
   "metadata": {},
   "outputs": [],
   "source": [
    "def missing_data(data):\n",
    "    '''These function will find the no. of rows that have missing data and will also return\n",
    "        the percentage of total missing value'''\n",
    "    \n",
    "    #isnull()-gives rows that does not contain values\n",
    "    total = data.isnull().sum().sort_values(ascending = False) # in descending order\n",
    "    \n",
    "    percent = (data.isnull().sum()/data.isnull().count()*100).sort_values(ascending = False)\n",
    "    \n",
    "    return pd.concat([total, percent], axis=1, keys=['Total rows missing', 'Percentage'])"
   ]
  },
  {
   "cell_type": "code",
   "execution_count": 72,
   "metadata": {},
   "outputs": [
    {
     "name": "stdout",
     "output_type": "stream",
     "text": [
      "Missing data:\n",
      "\n"
     ]
    },
    {
     "data": {
      "text/html": [
       "<div>\n",
       "<style scoped>\n",
       "    .dataframe tbody tr th:only-of-type {\n",
       "        vertical-align: middle;\n",
       "    }\n",
       "\n",
       "    .dataframe tbody tr th {\n",
       "        vertical-align: top;\n",
       "    }\n",
       "\n",
       "    .dataframe thead th {\n",
       "        text-align: right;\n",
       "    }\n",
       "</style>\n",
       "<table border=\"1\" class=\"dataframe\">\n",
       "  <thead>\n",
       "    <tr style=\"text-align: right;\">\n",
       "      <th></th>\n",
       "      <th>Total rows missing</th>\n",
       "      <th>Percentage</th>\n",
       "    </tr>\n",
       "  </thead>\n",
       "  <tbody>\n",
       "    <tr>\n",
       "      <td>trafficSource.adContent</td>\n",
       "      <td>892707</td>\n",
       "      <td>98.788694</td>\n",
       "    </tr>\n",
       "    <tr>\n",
       "      <td>totals.transactionRevenue</td>\n",
       "      <td>892138</td>\n",
       "      <td>98.725728</td>\n",
       "    </tr>\n",
       "    <tr>\n",
       "      <td>trafficSource.adwordsClickInfo.adNetworkType</td>\n",
       "      <td>882193</td>\n",
       "      <td>97.625195</td>\n",
       "    </tr>\n",
       "    <tr>\n",
       "      <td>trafficSource.adwordsClickInfo.slot</td>\n",
       "      <td>882193</td>\n",
       "      <td>97.625195</td>\n",
       "    </tr>\n",
       "    <tr>\n",
       "      <td>trafficSource.adwordsClickInfo.page</td>\n",
       "      <td>882193</td>\n",
       "      <td>97.625195</td>\n",
       "    </tr>\n",
       "    <tr>\n",
       "      <td>trafficSource.adwordsClickInfo.gclId</td>\n",
       "      <td>882092</td>\n",
       "      <td>97.614018</td>\n",
       "    </tr>\n",
       "    <tr>\n",
       "      <td>trafficSource.referralPath</td>\n",
       "      <td>572712</td>\n",
       "      <td>63.377425</td>\n",
       "    </tr>\n",
       "    <tr>\n",
       "      <td>trafficSource.keyword</td>\n",
       "      <td>502929</td>\n",
       "      <td>55.655102</td>\n",
       "    </tr>\n",
       "    <tr>\n",
       "      <td>totals.pageviews</td>\n",
       "      <td>100</td>\n",
       "      <td>0.011066</td>\n",
       "    </tr>\n",
       "    <tr>\n",
       "      <td>visitStartTime</td>\n",
       "      <td>0</td>\n",
       "      <td>0.000000</td>\n",
       "    </tr>\n",
       "    <tr>\n",
       "      <td>device.deviceCategory</td>\n",
       "      <td>0</td>\n",
       "      <td>0.000000</td>\n",
       "    </tr>\n",
       "    <tr>\n",
       "      <td>device.isMobile</td>\n",
       "      <td>0</td>\n",
       "      <td>0.000000</td>\n",
       "    </tr>\n",
       "    <tr>\n",
       "      <td>device.operatingSystem</td>\n",
       "      <td>0</td>\n",
       "      <td>0.000000</td>\n",
       "    </tr>\n",
       "    <tr>\n",
       "      <td>device.browser</td>\n",
       "      <td>0</td>\n",
       "      <td>0.000000</td>\n",
       "    </tr>\n",
       "    <tr>\n",
       "      <td>hour</td>\n",
       "      <td>0</td>\n",
       "      <td>0.000000</td>\n",
       "    </tr>\n",
       "    <tr>\n",
       "      <td>visitNumber</td>\n",
       "      <td>0</td>\n",
       "      <td>0.000000</td>\n",
       "    </tr>\n",
       "    <tr>\n",
       "      <td>visitId</td>\n",
       "      <td>0</td>\n",
       "      <td>0.000000</td>\n",
       "    </tr>\n",
       "    <tr>\n",
       "      <td>geoNetwork.subContinent</td>\n",
       "      <td>0</td>\n",
       "      <td>0.000000</td>\n",
       "    </tr>\n",
       "    <tr>\n",
       "      <td>sessionId</td>\n",
       "      <td>0</td>\n",
       "      <td>0.000000</td>\n",
       "    </tr>\n",
       "    <tr>\n",
       "      <td>fullVisitorId</td>\n",
       "      <td>0</td>\n",
       "      <td>0.000000</td>\n",
       "    </tr>\n",
       "    <tr>\n",
       "      <td>date</td>\n",
       "      <td>0</td>\n",
       "      <td>0.000000</td>\n",
       "    </tr>\n",
       "    <tr>\n",
       "      <td>geoNetwork.continent</td>\n",
       "      <td>0</td>\n",
       "      <td>0.000000</td>\n",
       "    </tr>\n",
       "    <tr>\n",
       "      <td>geoNetwork.networkDomain</td>\n",
       "      <td>0</td>\n",
       "      <td>0.000000</td>\n",
       "    </tr>\n",
       "    <tr>\n",
       "      <td>geoNetwork.country</td>\n",
       "      <td>0</td>\n",
       "      <td>0.000000</td>\n",
       "    </tr>\n",
       "    <tr>\n",
       "      <td>geoNetwork.region</td>\n",
       "      <td>0</td>\n",
       "      <td>0.000000</td>\n",
       "    </tr>\n",
       "    <tr>\n",
       "      <td>geoNetwork.metro</td>\n",
       "      <td>0</td>\n",
       "      <td>0.000000</td>\n",
       "    </tr>\n",
       "    <tr>\n",
       "      <td>geoNetwork.city</td>\n",
       "      <td>0</td>\n",
       "      <td>0.000000</td>\n",
       "    </tr>\n",
       "    <tr>\n",
       "      <td>weekday</td>\n",
       "      <td>0</td>\n",
       "      <td>0.000000</td>\n",
       "    </tr>\n",
       "    <tr>\n",
       "      <td>totals.hits</td>\n",
       "      <td>0</td>\n",
       "      <td>0.000000</td>\n",
       "    </tr>\n",
       "    <tr>\n",
       "      <td>trafficSource.campaign</td>\n",
       "      <td>0</td>\n",
       "      <td>0.000000</td>\n",
       "    </tr>\n",
       "    <tr>\n",
       "      <td>trafficSource.source</td>\n",
       "      <td>0</td>\n",
       "      <td>0.000000</td>\n",
       "    </tr>\n",
       "    <tr>\n",
       "      <td>trafficSource.medium</td>\n",
       "      <td>0</td>\n",
       "      <td>0.000000</td>\n",
       "    </tr>\n",
       "    <tr>\n",
       "      <td>year</td>\n",
       "      <td>0</td>\n",
       "      <td>0.000000</td>\n",
       "    </tr>\n",
       "    <tr>\n",
       "      <td>month</td>\n",
       "      <td>0</td>\n",
       "      <td>0.000000</td>\n",
       "    </tr>\n",
       "    <tr>\n",
       "      <td>Date</td>\n",
       "      <td>0</td>\n",
       "      <td>0.000000</td>\n",
       "    </tr>\n",
       "    <tr>\n",
       "      <td>channelGrouping</td>\n",
       "      <td>0</td>\n",
       "      <td>0.000000</td>\n",
       "    </tr>\n",
       "  </tbody>\n",
       "</table>\n",
       "</div>"
      ],
      "text/plain": [
       "                                              Total rows missing  Percentage\n",
       "trafficSource.adContent                                   892707   98.788694\n",
       "totals.transactionRevenue                                 892138   98.725728\n",
       "trafficSource.adwordsClickInfo.adNetworkType              882193   97.625195\n",
       "trafficSource.adwordsClickInfo.slot                       882193   97.625195\n",
       "trafficSource.adwordsClickInfo.page                       882193   97.625195\n",
       "trafficSource.adwordsClickInfo.gclId                      882092   97.614018\n",
       "trafficSource.referralPath                                572712   63.377425\n",
       "trafficSource.keyword                                     502929   55.655102\n",
       "totals.pageviews                                             100    0.011066\n",
       "visitStartTime                                                 0    0.000000\n",
       "device.deviceCategory                                          0    0.000000\n",
       "device.isMobile                                                0    0.000000\n",
       "device.operatingSystem                                         0    0.000000\n",
       "device.browser                                                 0    0.000000\n",
       "hour                                                           0    0.000000\n",
       "visitNumber                                                    0    0.000000\n",
       "visitId                                                        0    0.000000\n",
       "geoNetwork.subContinent                                        0    0.000000\n",
       "sessionId                                                      0    0.000000\n",
       "fullVisitorId                                                  0    0.000000\n",
       "date                                                           0    0.000000\n",
       "geoNetwork.continent                                           0    0.000000\n",
       "geoNetwork.networkDomain                                       0    0.000000\n",
       "geoNetwork.country                                             0    0.000000\n",
       "geoNetwork.region                                              0    0.000000\n",
       "geoNetwork.metro                                               0    0.000000\n",
       "geoNetwork.city                                                0    0.000000\n",
       "weekday                                                        0    0.000000\n",
       "totals.hits                                                    0    0.000000\n",
       "trafficSource.campaign                                         0    0.000000\n",
       "trafficSource.source                                           0    0.000000\n",
       "trafficSource.medium                                           0    0.000000\n",
       "year                                                           0    0.000000\n",
       "month                                                          0    0.000000\n",
       "Date                                                           0    0.000000\n",
       "channelGrouping                                                0    0.000000"
      ]
     },
     "execution_count": 72,
     "metadata": {},
     "output_type": "execute_result"
    }
   ],
   "source": [
    "print(\"Missing data:\\n\")\n",
    "missing_data(train)"
   ]
  },
  {
   "cell_type": "markdown",
   "metadata": {},
   "source": [
    "Observation: \n",
    "1. Most of the sub-columns of trafficSource show very high missing values\n",
    "2. 98.725728% rows of transactionRevenue has missing value"
   ]
  },
  {
   "cell_type": "markdown",
   "metadata": {},
   "source": [
    "<h3>Let's check how many rows of transactionRevenue actually generate revenue"
   ]
  },
  {
   "cell_type": "code",
   "execution_count": 362,
   "metadata": {},
   "outputs": [],
   "source": [
    "train['totals.transactionRevenue'].fillna(0, inplace=True) #filling the NaN with 0-- to proceed "
   ]
  },
  {
   "cell_type": "code",
   "execution_count": 363,
   "metadata": {},
   "outputs": [],
   "source": [
    "# the values are in string format so it's important to convert them to int values\n",
    "train['totals.transactionRevenue'] = train['totals.transactionRevenue'].apply(lambda x:int(x))\n"
   ]
  },
  {
   "cell_type": "code",
   "execution_count": 75,
   "metadata": {},
   "outputs": [
    {
     "data": {
      "text/plain": [
       "(11515, 36)"
      ]
     },
     "execution_count": 75,
     "metadata": {},
     "output_type": "execute_result"
    }
   ],
   "source": [
    "#findind all rows that generate revenue\n",
    "no_of_revenue_generating_rows = train[train['totals.transactionRevenue']>0].shape\n",
    "no_of_revenue_generating_rows"
   ]
  },
  {
   "cell_type": "code",
   "execution_count": 76,
   "metadata": {},
   "outputs": [
    {
     "data": {
      "text/plain": [
       "1.27427231470487"
      ]
     },
     "execution_count": 76,
     "metadata": {},
     "output_type": "execute_result"
    }
   ],
   "source": [
    "percent_of_revenue_generating_rows = no_of_revenue_generating_rows[0]/train.shape[0]*100\n",
    "percent_of_revenue_generating_rows"
   ]
  },
  {
   "cell_type": "markdown",
   "metadata": {},
   "source": [
    "There are only 1.27% of the rows(i.e. 11515 rows) in the entire train dataset that is contributing to the revenue "
   ]
  },
  {
   "cell_type": "code",
   "execution_count": 77,
   "metadata": {},
   "outputs": [
    {
     "data": {
      "text/plain": [
       "1540071240000"
      ]
     },
     "execution_count": 77,
     "metadata": {},
     "output_type": "execute_result"
    }
   ],
   "source": [
    "train['totals.transactionRevenue'].sum()"
   ]
  },
  {
   "cell_type": "code",
   "execution_count": 78,
   "metadata": {},
   "outputs": [
    {
     "data": {
      "text/plain": [
       "(11515, 36)"
      ]
     },
     "execution_count": 78,
     "metadata": {},
     "output_type": "execute_result"
    }
   ],
   "source": [
    "#findind all rows that generate revenue\n",
    "a = train[train['totals.transactionRevenue']>10].shape\n",
    "a"
   ]
  },
  {
   "cell_type": "markdown",
   "metadata": {},
   "source": [
    "<h3>Who are contributing to the revenue?"
   ]
  },
  {
   "cell_type": "code",
   "execution_count": 79,
   "metadata": {},
   "outputs": [],
   "source": [
    "#finding total revenue generated by each user\n",
    "per_user_revenue = train.groupby('fullVisitorId').agg({'totals.transactionRevenue':'sum'})"
   ]
  },
  {
   "cell_type": "code",
   "execution_count": 80,
   "metadata": {},
   "outputs": [
    {
     "data": {
      "text/html": [
       "<div>\n",
       "<style scoped>\n",
       "    .dataframe tbody tr th:only-of-type {\n",
       "        vertical-align: middle;\n",
       "    }\n",
       "\n",
       "    .dataframe tbody tr th {\n",
       "        vertical-align: top;\n",
       "    }\n",
       "\n",
       "    .dataframe thead th {\n",
       "        text-align: right;\n",
       "    }\n",
       "</style>\n",
       "<table border=\"1\" class=\"dataframe\">\n",
       "  <thead>\n",
       "    <tr style=\"text-align: right;\">\n",
       "      <th></th>\n",
       "      <th>totals.transactionRevenue</th>\n",
       "    </tr>\n",
       "    <tr>\n",
       "      <th>fullVisitorId</th>\n",
       "      <th></th>\n",
       "    </tr>\n",
       "  </thead>\n",
       "  <tbody>\n",
       "    <tr>\n",
       "      <td>0000010278554503158</td>\n",
       "      <td>0</td>\n",
       "    </tr>\n",
       "    <tr>\n",
       "      <td>0000020424342248747</td>\n",
       "      <td>0</td>\n",
       "    </tr>\n",
       "    <tr>\n",
       "      <td>0000027376579751715</td>\n",
       "      <td>0</td>\n",
       "    </tr>\n",
       "    <tr>\n",
       "      <td>0000039460501403861</td>\n",
       "      <td>0</td>\n",
       "    </tr>\n",
       "    <tr>\n",
       "      <td>0000040862739425590</td>\n",
       "      <td>0</td>\n",
       "    </tr>\n",
       "  </tbody>\n",
       "</table>\n",
       "</div>"
      ],
      "text/plain": [
       "                     totals.transactionRevenue\n",
       "fullVisitorId                                 \n",
       "0000010278554503158                          0\n",
       "0000020424342248747                          0\n",
       "0000027376579751715                          0\n",
       "0000039460501403861                          0\n",
       "0000040862739425590                          0"
      ]
     },
     "execution_count": 80,
     "metadata": {},
     "output_type": "execute_result"
    }
   ],
   "source": [
    "per_user_revenue.head()"
   ]
  },
  {
   "cell_type": "code",
   "execution_count": 81,
   "metadata": {},
   "outputs": [
    {
     "data": {
      "text/html": [
       "<div>\n",
       "<style scoped>\n",
       "    .dataframe tbody tr th:only-of-type {\n",
       "        vertical-align: middle;\n",
       "    }\n",
       "\n",
       "    .dataframe tbody tr th {\n",
       "        vertical-align: top;\n",
       "    }\n",
       "\n",
       "    .dataframe thead th {\n",
       "        text-align: right;\n",
       "    }\n",
       "</style>\n",
       "<table border=\"1\" class=\"dataframe\">\n",
       "  <thead>\n",
       "    <tr style=\"text-align: right;\">\n",
       "      <th></th>\n",
       "      <th>totals.transactionRevenue</th>\n",
       "    </tr>\n",
       "    <tr>\n",
       "      <th>fullVisitorId</th>\n",
       "      <th></th>\n",
       "    </tr>\n",
       "  </thead>\n",
       "  <tbody>\n",
       "    <tr>\n",
       "      <td>0000213131142648941</td>\n",
       "      <td>33590000</td>\n",
       "    </tr>\n",
       "    <tr>\n",
       "      <td>0002871498069867123</td>\n",
       "      <td>96350000</td>\n",
       "    </tr>\n",
       "    <tr>\n",
       "      <td>0003450834640354121</td>\n",
       "      <td>57950000</td>\n",
       "    </tr>\n",
       "    <tr>\n",
       "      <td>0003961110741104601</td>\n",
       "      <td>4980000</td>\n",
       "    </tr>\n",
       "    <tr>\n",
       "      <td>000435324061339869</td>\n",
       "      <td>44790000</td>\n",
       "    </tr>\n",
       "  </tbody>\n",
       "</table>\n",
       "</div>"
      ],
      "text/plain": [
       "                     totals.transactionRevenue\n",
       "fullVisitorId                                 \n",
       "0000213131142648941                   33590000\n",
       "0002871498069867123                   96350000\n",
       "0003450834640354121                   57950000\n",
       "0003961110741104601                    4980000\n",
       "000435324061339869                    44790000"
      ]
     },
     "execution_count": 81,
     "metadata": {},
     "output_type": "execute_result"
    }
   ],
   "source": [
    "revenue_generating_users = per_user_revenue[per_user_revenue['totals.transactionRevenue']>0]\n",
    "revenue_generating_users.head()"
   ]
  },
  {
   "cell_type": "code",
   "execution_count": 82,
   "metadata": {},
   "outputs": [
    {
     "data": {
      "text/plain": [
       "Text(0.5, 1.0, 'Probabilistic Distribution plot showing distribution of total revenue generated')"
      ]
     },
     "execution_count": 82,
     "metadata": {},
     "output_type": "execute_result"
    },
    {
     "data": {
      "image/png": "[encoded data removed]",
      "text/plain": [
       "<Figure size 432x288 with 1 Axes>"
      ]
     },
     "metadata": {
      "needs_background": "light"
     },
     "output_type": "display_data"
    }
   ],
   "source": [
    "sns.distplot(revenue_generating_users['totals.transactionRevenue'])\n",
    "\n",
    "plt.xlabel(\"Total Transaction Revenue \")\n",
    "plt.title(\"Probabilistic Distribution plot showing distribution of total revenue generated\")"
   ]
  },
  {
   "cell_type": "markdown",
   "metadata": {},
   "source": [
    "Okay! So as per my assumption earlier, it proves here that only a small percentage of people actually contribute to the revenue. "
   ]
  },
  {
   "cell_type": "code",
   "execution_count": 83,
   "metadata": {},
   "outputs": [
    {
     "data": {
      "text/plain": [
       "Text(0.5, 1.0, 'Revenue Graph')"
      ]
     },
     "execution_count": 83,
     "metadata": {},
     "output_type": "execute_result"
    },
    {
     "data": {
      "image/png": "[encoded data removed]",
      "text/plain": [
       "<Figure size 432x288 with 1 Axes>"
      ]
     },
     "metadata": {
      "needs_background": "light"
     },
     "output_type": "display_data"
    }
   ],
   "source": [
    "plt.scatter(range(train.shape[0]), np.sort(train['totals.transactionRevenue'].values))\n",
    "plt.xlabel(\"No. of entries\")\n",
    "plt.ylabel(\"revenue raised\")\n",
    "plt.title(\"Revenue Graph\")"
   ]
  },
  {
   "cell_type": "markdown",
   "metadata": {},
   "source": [
    "The graph clearly indicated that only a very small proportion of users actually contribute to the revenue.\n",
    "Rest are just mere entries."
   ]
  },
  {
   "cell_type": "code",
   "execution_count": 84,
   "metadata": {},
   "outputs": [
    {
     "data": {
      "image/png": "[encoded data removed]",
      "text/plain": [
       "<Figure size 432x288 with 1 Axes>"
      ]
     },
     "metadata": {
      "needs_background": "light"
     },
     "output_type": "display_data"
    }
   ],
   "source": [
    "#Plotting a log distribution plot on entries where transactionRevenue>0\n",
    "ax = sns.distplot(np.log(train[train['totals.transactionRevenue'] > 0][\"totals.transactionRevenue\"] + 0.01), bins=40, kde=True)\n"
   ]
  },
  {
   "cell_type": "markdown",
   "metadata": {},
   "source": [
    "<h3>Checking no.of visits per day"
   ]
  },
  {
   "cell_type": "code",
   "execution_count": 85,
   "metadata": {},
   "outputs": [],
   "source": [
    "#value_counts()- will give total no.of entries for that day which is equivalent to no. of visits\n",
    "#.sort_values('index') - will give me the frame in order of date\n",
    "\n",
    "no_visits_per_day = train['date'].value_counts().to_frame().reset_index().sort_values('index')\n",
    "no_visits_per_day = no_visits_per_day.rename(columns = {\"index\" : \"date\", \"date\" : \"visits\"})"
   ]
  },
  {
   "cell_type": "code",
   "execution_count": 86,
   "metadata": {},
   "outputs": [
    {
     "data": {
      "text/html": [
       "<div>\n",
       "<style scoped>\n",
       "    .dataframe tbody tr th:only-of-type {\n",
       "        vertical-align: middle;\n",
       "    }\n",
       "\n",
       "    .dataframe tbody tr th {\n",
       "        vertical-align: top;\n",
       "    }\n",
       "\n",
       "    .dataframe thead th {\n",
       "        text-align: right;\n",
       "    }\n",
       "</style>\n",
       "<table border=\"1\" class=\"dataframe\">\n",
       "  <thead>\n",
       "    <tr style=\"text-align: right;\">\n",
       "      <th></th>\n",
       "      <th>date</th>\n",
       "      <th>visits</th>\n",
       "    </tr>\n",
       "  </thead>\n",
       "  <tbody>\n",
       "    <tr>\n",
       "      <td>312</td>\n",
       "      <td>2016-08-01</td>\n",
       "      <td>1711</td>\n",
       "    </tr>\n",
       "    <tr>\n",
       "      <td>251</td>\n",
       "      <td>2016-08-02</td>\n",
       "      <td>2140</td>\n",
       "    </tr>\n",
       "    <tr>\n",
       "      <td>75</td>\n",
       "      <td>2016-08-03</td>\n",
       "      <td>2890</td>\n",
       "    </tr>\n",
       "    <tr>\n",
       "      <td>49</td>\n",
       "      <td>2016-08-04</td>\n",
       "      <td>3161</td>\n",
       "    </tr>\n",
       "    <tr>\n",
       "      <td>106</td>\n",
       "      <td>2016-08-05</td>\n",
       "      <td>2702</td>\n",
       "    </tr>\n",
       "    <tr>\n",
       "      <td>...</td>\n",
       "      <td>...</td>\n",
       "      <td>...</td>\n",
       "    </tr>\n",
       "    <tr>\n",
       "      <td>172</td>\n",
       "      <td>2017-07-28</td>\n",
       "      <td>2433</td>\n",
       "    </tr>\n",
       "    <tr>\n",
       "      <td>335</td>\n",
       "      <td>2017-07-29</td>\n",
       "      <td>1597</td>\n",
       "    </tr>\n",
       "    <tr>\n",
       "      <td>293</td>\n",
       "      <td>2017-07-30</td>\n",
       "      <td>1799</td>\n",
       "    </tr>\n",
       "    <tr>\n",
       "      <td>124</td>\n",
       "      <td>2017-07-31</td>\n",
       "      <td>2620</td>\n",
       "    </tr>\n",
       "    <tr>\n",
       "      <td>144</td>\n",
       "      <td>2017-08-01</td>\n",
       "      <td>2556</td>\n",
       "    </tr>\n",
       "  </tbody>\n",
       "</table>\n",
       "<p>366 rows × 2 columns</p>\n",
       "</div>"
      ],
      "text/plain": [
       "           date  visits\n",
       "312  2016-08-01    1711\n",
       "251  2016-08-02    2140\n",
       "75   2016-08-03    2890\n",
       "49   2016-08-04    3161\n",
       "106  2016-08-05    2702\n",
       "..          ...     ...\n",
       "172  2017-07-28    2433\n",
       "335  2017-07-29    1597\n",
       "293  2017-07-30    1799\n",
       "124  2017-07-31    2620\n",
       "144  2017-08-01    2556\n",
       "\n",
       "[366 rows x 2 columns]"
      ]
     },
     "execution_count": 86,
     "metadata": {},
     "output_type": "execute_result"
    }
   ],
   "source": [
    "no_visits_per_day"
   ]
  },
  {
   "cell_type": "code",
   "execution_count": 87,
   "metadata": {},
   "outputs": [
    {
     "data": {
      "text/plain": [
       "Text(0.5, 1.0, 'no.of visits/entries per day')"
      ]
     },
     "execution_count": 87,
     "metadata": {},
     "output_type": "execute_result"
    },
    {
     "data": {
      "image/png": "[encoded data removed]",
      "text/plain": [
       "<Figure size 432x288 with 1 Axes>"
      ]
     },
     "metadata": {
      "needs_background": "light"
     },
     "output_type": "display_data"
    }
   ],
   "source": [
    "plt.plot(no_visits_per_day['date'], no_visits_per_day['visits'], 'o', color='black')\n",
    "plt.xlabel(\"date\")\n",
    "plt.ylabel(\"no.of visits\")\n",
    "plt.title(\"no.of visits/entries per day\")"
   ]
  },
  {
   "cell_type": "markdown",
   "metadata": {},
   "source": [
    "Here it can be seen that in the duration of Nov 2016 to Dec 2016 the no.of entries is more comparitive to other months. Let's check the revenue in all these months and then we can clearly state whether time will be an importtant factor or not."
   ]
  },
  {
   "cell_type": "code",
   "execution_count": 88,
   "metadata": {},
   "outputs": [
    {
     "data": {
      "text/html": [
       "<div>\n",
       "<style scoped>\n",
       "    .dataframe tbody tr th:only-of-type {\n",
       "        vertical-align: middle;\n",
       "    }\n",
       "\n",
       "    .dataframe tbody tr th {\n",
       "        vertical-align: top;\n",
       "    }\n",
       "\n",
       "    .dataframe thead th {\n",
       "        text-align: right;\n",
       "    }\n",
       "</style>\n",
       "<table border=\"1\" class=\"dataframe\">\n",
       "  <thead>\n",
       "    <tr style=\"text-align: right;\">\n",
       "      <th></th>\n",
       "      <th>totals.transactionRevenue</th>\n",
       "    </tr>\n",
       "    <tr>\n",
       "      <th>date</th>\n",
       "      <th></th>\n",
       "    </tr>\n",
       "  </thead>\n",
       "  <tbody>\n",
       "    <tr>\n",
       "      <td>2016-08-01</td>\n",
       "      <td>6116060000</td>\n",
       "    </tr>\n",
       "    <tr>\n",
       "      <td>2016-08-02</td>\n",
       "      <td>1361190000</td>\n",
       "    </tr>\n",
       "  </tbody>\n",
       "</table>\n",
       "</div>"
      ],
      "text/plain": [
       "            totals.transactionRevenue\n",
       "date                                 \n",
       "2016-08-01                 6116060000\n",
       "2016-08-02                 1361190000"
      ]
     },
     "execution_count": 88,
     "metadata": {},
     "output_type": "execute_result"
    }
   ],
   "source": [
    "#revenue per date\n",
    "per_date_revenue = train.groupby('date').agg({'totals.transactionRevenue':'sum'})\n",
    "per_date_revenue.head(2)"
   ]
  },
  {
   "cell_type": "code",
   "execution_count": 89,
   "metadata": {},
   "outputs": [
    {
     "data": {
      "text/plain": [
       "[<matplotlib.lines.Line2D at 0x2f0e016d0>]"
      ]
     },
     "execution_count": 89,
     "metadata": {},
     "output_type": "execute_result"
    },
    {
     "data": {
      "image/png": "[encoded data removed]",
      "text/plain": [
       "<Figure size 432x288 with 1 Axes>"
      ]
     },
     "metadata": {
      "needs_background": "light"
     },
     "output_type": "display_data"
    }
   ],
   "source": [
    "plt.plot(per_date_revenue, 'o', color='black')\n",
    "plt.ylabel(\"Revenue generated\")\n",
    "plt.xlabel(\"Date\")\n",
    "plt.title(\"Revenue generated per day\")"
   ]
  },
  {
   "cell_type": "markdown",
   "metadata": {},
   "source": [
    "Though the no. of entries were more in Oct-Nov 2016, the revenue generation does not show any differences."
   ]
  },
  {
   "cell_type": "markdown",
   "metadata": {},
   "source": [
    "<h3>Per month"
   ]
  },
  {
   "cell_type": "code",
   "execution_count": 90,
   "metadata": {},
   "outputs": [
    {
     "data": {
      "text/plain": [
       "Text(0.5, 1.0, 'Revenue generated per month')"
      ]
     },
     "execution_count": 90,
     "metadata": {},
     "output_type": "execute_result"
    },
    {
     "data": {
      "image/png": "[encoded data removed]",
      "text/plain": [
       "<Figure size 432x288 with 1 Axes>"
      ]
     },
     "metadata": {
      "needs_background": "light"
     },
     "output_type": "display_data"
    }
   ],
   "source": [
    "#finding revenue generated per month\n",
    "revnue_generated_per_month = train.groupby(\"month\").agg({'totals.transactionRevenue':'sum'})\n",
    "\n",
    "revnue_generated_per_month.plot.bar()\n",
    "plt.title(\"Revenue generated per month\")"
   ]
  },
  {
   "cell_type": "code",
   "execution_count": 91,
   "metadata": {},
   "outputs": [
    {
     "data": {
      "text/plain": [
       "Text(0.5, 1.0, 'No.of sessions per month')"
      ]
     },
     "execution_count": 91,
     "metadata": {},
     "output_type": "execute_result"
    },
    {
     "data": {
      "image/png": "[encoded data removed]",
      "text/plain": [
       "<Figure size 432x288 with 1 Axes>"
      ]
     },
     "metadata": {
      "needs_background": "light"
     },
     "output_type": "display_data"
    }
   ],
   "source": [
    "#No.of sessions per month\n",
    "sessions_per_month = train.groupby(\"month\").agg({'visitId':'sum'})\n",
    "sessions_per_month.plot.bar()\n",
    "plt.title(\"No.of sessions per month\")"
   ]
  },
  {
   "cell_type": "markdown",
   "metadata": {},
   "source": [
    "By looking at the above 2 plots it can be concluded that April and August has high revenue/session ratio while Nov has the lowest revenue/session ratio.\n"
   ]
  },
  {
   "cell_type": "markdown",
   "metadata": {},
   "source": [
    "<h3>Per weekday"
   ]
  },
  {
   "cell_type": "code",
   "execution_count": 92,
   "metadata": {},
   "outputs": [
    {
     "data": {
      "text/plain": [
       "Text(0.5, 1.0, 'Revenue generated per weekday')"
      ]
     },
     "execution_count": 92,
     "metadata": {},
     "output_type": "execute_result"
    },
    {
     "data": {
      "image/png": "[encoded data removed]",
      "text/plain": [
       "<Figure size 432x288 with 1 Axes>"
      ]
     },
     "metadata": {
      "needs_background": "light"
     },
     "output_type": "display_data"
    }
   ],
   "source": [
    "#0-Monday\n",
    "#6-Sunday\n",
    "\n",
    "revnue_generated_per_weekday = train.groupby(\"weekday\").agg({'totals.transactionRevenue':'sum'})\n",
    "\n",
    "revnue_generated_per_weekday.plot.bar()\n",
    "plt.ylabel(\"Revenue generated\")\n",
    "plt.xlabel(\"weekday\")\n",
    "plt.title(\"Revenue generated per weekday\")"
   ]
  },
  {
   "cell_type": "code",
   "execution_count": 93,
   "metadata": {},
   "outputs": [
    {
     "data": {
      "text/plain": [
       "Text(0.5, 1.0, 'No.of entries per weekday')"
      ]
     },
     "execution_count": 93,
     "metadata": {},
     "output_type": "execute_result"
    },
    {
     "data": {
      "image/png": "[encoded data removed]",
      "text/plain": [
       "<Figure size 432x288 with 1 Axes>"
      ]
     },
     "metadata": {
      "needs_background": "light"
     },
     "output_type": "display_data"
    }
   ],
   "source": [
    "train['weekday'].value_counts().plot.bar()\n",
    "plt.ylabel(\"No.of entries\")\n",
    "plt.xlabel(\"weekdays\")\n",
    "plt.title(\"No.of entries per weekday\")"
   ]
  },
  {
   "cell_type": "markdown",
   "metadata": {},
   "source": [
    "1. Surprisingly, the number of entries/sessions are more in the weekdays than in the weekend.\n",
    "2. Highest revenue is generated on Tuesday"
   ]
  },
  {
   "cell_type": "markdown",
   "metadata": {},
   "source": [
    "<h3>Per channel"
   ]
  },
  {
   "cell_type": "code",
   "execution_count": 94,
   "metadata": {},
   "outputs": [
    {
     "data": {
      "text/plain": [
       "<matplotlib.axes._subplots.AxesSubplot at 0x2f0cf07d0>"
      ]
     },
     "execution_count": 94,
     "metadata": {},
     "output_type": "execute_result"
    },
    {
     "data": {
      "image/png": "[encoded data removed]",
      "text/plain": [
       "<Figure size 432x288 with 1 Axes>"
      ]
     },
     "metadata": {
      "needs_background": "light"
     },
     "output_type": "display_data"
    }
   ],
   "source": [
    "revnue_generated_by_channel = train.groupby(\"channelGrouping\").agg({'totals.transactionRevenue':'sum'})\n",
    "\n",
    "revnue_generated_by_channel.plot.bar()\n",
    "plt.ylabel(\"Revenue generated\")\n",
    "plt.xlabel(\"channel\")\n",
    "plt.title(\"Revenue generated per channel\")"
   ]
  },
  {
   "cell_type": "code",
   "execution_count": 95,
   "metadata": {},
   "outputs": [
    {
     "data": {
      "text/plain": [
       "<matplotlib.axes._subplots.AxesSubplot at 0x2f0cbda90>"
      ]
     },
     "execution_count": 95,
     "metadata": {},
     "output_type": "execute_result"
    },
    {
     "data": {
      "image/png": "[encoded data removed]",
      "text/plain": [
       "<Figure size 432x288 with 1 Axes>"
      ]
     },
     "metadata": {
      "needs_background": "light"
     },
     "output_type": "display_data"
    }
   ],
   "source": [
    "#we've seen this earlier\n",
    "train['channelGrouping'].value_counts().plot.bar()\n",
    "plt.ylabel(\"No. of entries\")\n",
    "plt.xlabel(\"channel\")\n",
    "plt.title(\"No. of entries per channel\")"
   ]
  },
  {
   "cell_type": "markdown",
   "metadata": {},
   "source": [
    "Referals generate most revenue though the no.of entries is comparitively much lower than organic search, social and direct"
   ]
  },
  {
   "cell_type": "markdown",
   "metadata": {},
   "source": [
    "<h3>Per Operarting System"
   ]
  },
  {
   "cell_type": "code",
   "execution_count": 96,
   "metadata": {},
   "outputs": [
    {
     "data": {
      "text/plain": [
       "Text(0.5, 1.0, 'Revenue generated per OS')"
      ]
     },
     "execution_count": 96,
     "metadata": {},
     "output_type": "execute_result"
    },
    {
     "data": {
      "image/png": "[encoded data removed]",
      "text/plain": [
       "<Figure size 432x288 with 1 Axes>"
      ]
     },
     "metadata": {
      "needs_background": "light"
     },
     "output_type": "display_data"
    }
   ],
   "source": [
    "revnue_generated_by_os = train.groupby(\"device.operatingSystem\").agg({'totals.transactionRevenue':'sum'})\n",
    "\n",
    "revnue_generated_by_os.plot.bar()\n",
    "plt.ylabel(\"Revenue generated\")\n",
    "plt.xlabel(\"OS used\")\n",
    "plt.title(\"Revenue generated per OS\")"
   ]
  },
  {
   "cell_type": "code",
   "execution_count": 97,
   "metadata": {},
   "outputs": [
    {
     "data": {
      "text/plain": [
       "Text(0.5, 1.0, 'No.of entries per OS')"
      ]
     },
     "execution_count": 97,
     "metadata": {},
     "output_type": "execute_result"
    },
    {
     "data": {
      "image/png": "[encoded data removed]",
      "text/plain": [
       "<Figure size 432x288 with 1 Axes>"
      ]
     },
     "metadata": {
      "needs_background": "light"
     },
     "output_type": "display_data"
    }
   ],
   "source": [
    "train['device.operatingSystem'].value_counts().plot.bar()\n",
    "plt.ylabel(\"No.of entries\")\n",
    "plt.xlabel(\"OS used\")\n",
    "plt.title(\"No.of entries per OS\")"
   ]
  },
  {
   "cell_type": "markdown",
   "metadata": {},
   "source": [
    "1. Here it can be seen that most of the entries were from Windows OS but maximum revenue is generated by users using Machintosh\n",
    "2. It seems like only Machintosh, Windows, Chrome OS, Android and IOS using users contribute to revenue\n",
    "3. Android and IOS users have high no.of entries but have contributes very less to the revenue"
   ]
  },
  {
   "cell_type": "markdown",
   "metadata": {},
   "source": [
    "<h3>Per device category"
   ]
  },
  {
   "cell_type": "code",
   "execution_count": 98,
   "metadata": {},
   "outputs": [
    {
     "data": {
      "text/plain": [
       "Text(0.5, 1.0, 'Revenue generated per device')"
      ]
     },
     "execution_count": 98,
     "metadata": {},
     "output_type": "execute_result"
    },
    {
     "data": {
      "image/png": "[encoded data removed]",
      "text/plain": [
       "<Figure size 432x288 with 1 Axes>"
      ]
     },
     "metadata": {
      "needs_background": "light"
     },
     "output_type": "display_data"
    }
   ],
   "source": [
    "revnue_generated_by_device_category = train.groupby(\"device.deviceCategory\").agg({'totals.transactionRevenue':'sum'})\n",
    "\n",
    "revnue_generated_by_device_category.plot.bar()\n",
    "plt.ylabel(\"Revenue generated\")\n",
    "plt.xlabel(\"device used\")\n",
    "plt.title(\"Revenue generated per device\")"
   ]
  },
  {
   "cell_type": "code",
   "execution_count": 99,
   "metadata": {},
   "outputs": [
    {
     "data": {
      "text/plain": [
       "Text(0.5, 1.0, 'No.of entries per device')"
      ]
     },
     "execution_count": 99,
     "metadata": {},
     "output_type": "execute_result"
    },
    {
     "data": {
      "image/png": "[encoded data removed]",
      "text/plain": [
       "<Figure size 432x288 with 1 Axes>"
      ]
     },
     "metadata": {
      "needs_background": "light"
     },
     "output_type": "display_data"
    }
   ],
   "source": [
    "train['device.deviceCategory'].value_counts().plot.bar()\n",
    "plt.ylabel(\"No.of entries\")\n",
    "plt.xlabel(\"device used\")\n",
    "plt.title(\"No.of entries per device\")"
   ]
  },
  {
   "cell_type": "markdown",
   "metadata": {},
   "source": [
    "1. Most revenue is generated by users using desktop. \n",
    "2. People using mobile low revenue/entries ratio"
   ]
  },
  {
   "cell_type": "markdown",
   "metadata": {},
   "source": [
    "<h3>Per continent"
   ]
  },
  {
   "cell_type": "code",
   "execution_count": 100,
   "metadata": {},
   "outputs": [
    {
     "data": {
      "text/plain": [
       "Index(['channelGrouping', 'date', 'fullVisitorId', 'sessionId', 'visitId',\n",
       "       'visitNumber', 'visitStartTime', 'device.browser',\n",
       "       'device.operatingSystem', 'device.isMobile', 'device.deviceCategory',\n",
       "       'geoNetwork.continent', 'geoNetwork.subContinent', 'geoNetwork.country',\n",
       "       'geoNetwork.region', 'geoNetwork.metro', 'geoNetwork.city',\n",
       "       'geoNetwork.networkDomain', 'totals.hits', 'totals.pageviews',\n",
       "       'totals.transactionRevenue', 'trafficSource.campaign',\n",
       "       'trafficSource.source', 'trafficSource.medium', 'trafficSource.keyword',\n",
       "       'trafficSource.referralPath', 'trafficSource.adwordsClickInfo.page',\n",
       "       'trafficSource.adwordsClickInfo.slot',\n",
       "       'trafficSource.adwordsClickInfo.gclId',\n",
       "       'trafficSource.adwordsClickInfo.adNetworkType',\n",
       "       'trafficSource.adContent', 'year', 'month', 'Date', 'weekday', 'hour'],\n",
       "      dtype='object')"
      ]
     },
     "execution_count": 100,
     "metadata": {},
     "output_type": "execute_result"
    }
   ],
   "source": [
    "train.columns"
   ]
  },
  {
   "cell_type": "code",
   "execution_count": 101,
   "metadata": {},
   "outputs": [
    {
     "data": {
      "text/plain": [
       "Text(0.5, 1.0, 'Revenue generated per continent')"
      ]
     },
     "execution_count": 101,
     "metadata": {},
     "output_type": "execute_result"
    },
    {
     "data": {
      "image/png": "[encoded data removed]",
      "text/plain": [
       "<Figure size 432x288 with 1 Axes>"
      ]
     },
     "metadata": {
      "needs_background": "light"
     },
     "output_type": "display_data"
    }
   ],
   "source": [
    "revnue_generated_by_continent = train.groupby(\"geoNetwork.continent\").agg({'totals.transactionRevenue':'sum'})\n",
    "\n",
    "revnue_generated_by_continent.plot.bar()\n",
    "plt.ylabel(\"Revenue generated\")\n",
    "plt.xlabel(\"continent\")\n",
    "plt.title(\"Revenue generated per continent\")"
   ]
  },
  {
   "cell_type": "code",
   "execution_count": 102,
   "metadata": {},
   "outputs": [
    {
     "data": {
      "text/plain": [
       "Text(0.5, 1.0, 'No.of entries per continent')"
      ]
     },
     "execution_count": 102,
     "metadata": {},
     "output_type": "execute_result"
    },
    {
     "data": {
      "image/png": "[encoded data removed]",
      "text/plain": [
       "<Figure size 432x288 with 1 Axes>"
      ]
     },
     "metadata": {
      "needs_background": "light"
     },
     "output_type": "display_data"
    }
   ],
   "source": [
    "train['geoNetwork.continent'].value_counts().plot.bar()\n",
    "plt.ylabel(\"No.of entries\")\n",
    "plt.xlabel(\"continent\")\n",
    "plt.title(\"No.of entries per continent\")"
   ]
  },
  {
   "cell_type": "code",
   "execution_count": 103,
   "metadata": {},
   "outputs": [
    {
     "name": "stdout",
     "output_type": "stream",
     "text": [
      "percentage contribution by america: 97.70142840924684\n"
     ]
    }
   ],
   "source": [
    "revenue_generated_by_america =train[train['geoNetwork.continent']=='Americas']['totals.transactionRevenue'].sum()\n",
    "total_revenue = train['totals.transactionRevenue'].sum()\n",
    "print(\"percentage contribution by america:\", revenue_generated_by_america/total_revenue*100)"
   ]
  },
  {
   "cell_type": "markdown",
   "metadata": {},
   "source": [
    "The americans contribute to more than 97% to the revenue alone."
   ]
  },
  {
   "cell_type": "markdown",
   "metadata": {},
   "source": [
    "<h3> Pe sub-Continent"
   ]
  },
  {
   "cell_type": "code",
   "execution_count": 104,
   "metadata": {},
   "outputs": [
    {
     "data": {
      "text/plain": [
       "Text(0.5, 1.0, 'Revenue generated per subcontinent')"
      ]
     },
     "execution_count": 104,
     "metadata": {},
     "output_type": "execute_result"
    },
    {
     "data": {
      "image/png": "[encoded data removed]",
      "text/plain": [
       "<Figure size 432x288 with 1 Axes>"
      ]
     },
     "metadata": {
      "needs_background": "light"
     },
     "output_type": "display_data"
    }
   ],
   "source": [
    "revnue_generated_by_subcontinent = train.groupby(\"geoNetwork.subContinent\").agg({'totals.transactionRevenue':'sum'})\n",
    "\n",
    "revnue_generated_by_subcontinent.plot.bar()\n",
    "plt.ylabel(\"Revenue generated\")\n",
    "plt.xlabel(\"subcontinent\")\n",
    "plt.title(\"Revenue generated per subcontinent\")"
   ]
  },
  {
   "cell_type": "code",
   "execution_count": 105,
   "metadata": {},
   "outputs": [
    {
     "data": {
      "text/plain": [
       "Text(0.5, 0, 'Sub-Continent')"
      ]
     },
     "execution_count": 105,
     "metadata": {},
     "output_type": "execute_result"
    },
    {
     "data": {
      "image/png": "[encoded data removed]",
      "text/plain": [
       "<Figure size 432x288 with 1 Axes>"
      ]
     },
     "metadata": {
      "needs_background": "light"
     },
     "output_type": "display_data"
    }
   ],
   "source": [
    "train['geoNetwork.subContinent'].value_counts().plot.bar()\n",
    "plt.ylabel(\"No.of entries\")\n",
    "plt.xlabel(\"Sub-Continent\")"
   ]
  },
  {
   "cell_type": "markdown",
   "metadata": {},
   "source": [
    "1. Northern America contribute maximum to the revenue.\n",
    "2. Asian and European contries have significant no.of sessions but doesnot contribute to the revenue much."
   ]
  },
  {
   "cell_type": "markdown",
   "metadata": {},
   "source": [
    "<H3> Checking how many customers has visited only once and how many users are regular"
   ]
  },
  {
   "cell_type": "code",
   "execution_count": 106,
   "metadata": {},
   "outputs": [
    {
     "name": "stdout",
     "output_type": "stream",
     "text": [
      "No. of customers who visited only once 703060\n",
      "Percentage of people who visited only once  77.801988152532\n",
      "total revenue generated by people who visited only once: 382325960000\n",
      "Revenue generated per person by such users: 543802.7479873695\n"
     ]
    }
   ],
   "source": [
    "no_of_users_visited_once = train[train['visitNumber']==1]\n",
    "print(\"No. of customers who visited only once\", no_of_users_visited_once.shape[0])\n",
    "print(\"Percentage of people who visited only once \", no_of_users_visited_once.shape[0]/ train.shape[0]*100)\n",
    "print(\"total revenue generated by people who visited only once:\",no_of_users_visited_once['totals.transactionRevenue'].sum())\n",
    "print(\"Revenue generated per person by such users:\",((no_of_users_visited_once['totals.transactionRevenue'].sum())/(no_of_users_visited_once.shape[0])))\n"
   ]
  },
  {
   "cell_type": "code",
   "execution_count": 107,
   "metadata": {},
   "outputs": [
    {
     "name": "stdout",
     "output_type": "stream",
     "text": [
      "No. of customers who visited more than once 200593\n",
      "Percentage of people who visited more than once  22.198011847468\n",
      "total revenue generated by people who visited more than once: 1157745280000\n",
      "Revenue generated per person by such users: 5771613.565777469\n"
     ]
    }
   ],
   "source": [
    "no_of_users_visited_more_than_once = train[train['visitNumber']>1] \n",
    "print(\"No. of customers who visited more than once\", no_of_users_visited_more_than_once.shape[0])\n",
    "print(\"Percentage of people who visited more than once \", no_of_users_visited_more_than_once.shape[0]/ train.shape[0]*100)\n",
    "print(\"total revenue generated by people who visited more than once:\",no_of_users_visited_more_than_once['totals.transactionRevenue'].sum())\n",
    "print(\"Revenue generated per person by such users:\",((no_of_users_visited_more_than_once['totals.transactionRevenue'].sum())/(no_of_users_visited_more_than_once.shape[0])))\n"
   ]
  },
  {
   "cell_type": "code",
   "execution_count": 108,
   "metadata": {},
   "outputs": [
    {
     "name": "stdout",
     "output_type": "stream",
     "text": [
      "No. of customers who visited more than once 18810\n",
      "Percentage of people who visited more than once  2.08155121490218\n",
      "total revenue generated by people who visited more than once: 248664270000\n",
      "Revenue generated per person by such users: 13219791.068580542\n"
     ]
    }
   ],
   "source": [
    "regular_visitors = train[train['visitNumber']>10]\n",
    "print(\"No. of customers who visited more than once\", regular_visitors.shape[0])\n",
    "print(\"Percentage of people who visited more than once \", regular_visitors.shape[0]/ train.shape[0]*100)\n",
    "print(\"total revenue generated by people who visited more than once:\",regular_visitors['totals.transactionRevenue'].sum())\n",
    "print(\"Revenue generated per person by such users:\",((regular_visitors['totals.transactionRevenue'].sum())/(regular_visitors.shape[0])))\n",
    "\n"
   ]
  },
  {
   "cell_type": "markdown",
   "metadata": {},
   "source": [
    "Conclusion: \n",
    "1. 77.8% of total users purchased from the store only once while 22.2% were regular visitors\n",
    "2. Avg Revenue generated per customer who came back to the store again is 10+ times more than the users who never came back.\n",
    "3. And the regular users (assuming regular customers are those who purchased the products more than 10 times) are the customers who contribute maximum to the revenue"
   ]
  },
  {
   "cell_type": "markdown",
   "metadata": {},
   "source": [
    "<b>By now, i've studied all the features in my dataset and I'm ready to proceed."
   ]
  },
  {
   "cell_type": "code",
   "execution_count": 364,
   "metadata": {},
   "outputs": [
    {
     "data": {
      "text/plain": [
       "Index(['channelGrouping', 'date', 'fullVisitorId', 'sessionId', 'visitId',\n",
       "       'visitNumber', 'visitStartTime', 'device.browser',\n",
       "       'device.operatingSystem', 'device.isMobile', 'device.deviceCategory',\n",
       "       'geoNetwork.continent', 'geoNetwork.subContinent', 'geoNetwork.country',\n",
       "       'geoNetwork.region', 'geoNetwork.metro', 'geoNetwork.city',\n",
       "       'geoNetwork.networkDomain', 'totals.hits', 'totals.pageviews',\n",
       "       'totals.transactionRevenue', 'trafficSource.campaign',\n",
       "       'trafficSource.source', 'trafficSource.medium', 'trafficSource.keyword',\n",
       "       'trafficSource.referralPath', 'trafficSource.adwordsClickInfo.page',\n",
       "       'trafficSource.adwordsClickInfo.slot',\n",
       "       'trafficSource.adwordsClickInfo.gclId',\n",
       "       'trafficSource.adwordsClickInfo.adNetworkType',\n",
       "       'trafficSource.adContent', 'year', 'month', 'Date', 'weekday', 'hour',\n",
       "       'mean_hits_per_day', 'median_hits_per_day', 'sum_hits_per_day',\n",
       "       'min_hits_per_day', 'max_hits_per_day', 'mean_pageviews_per_day',\n",
       "       'median_pageviews_per_day', 'sum_pageviews_per_day',\n",
       "       'min_pageviews_per_day', 'max_pageviews_per_day'],\n",
       "      dtype='object')"
      ]
     },
     "execution_count": 364,
     "metadata": {},
     "output_type": "execute_result"
    }
   ],
   "source": [
    "train.columns"
   ]
  },
  {
   "cell_type": "code",
   "execution_count": 365,
   "metadata": {},
   "outputs": [
    {
     "data": {
      "text/plain": [
       "Index(['channelGrouping', 'date', 'fullVisitorId', 'sessionId', 'visitId',\n",
       "       'visitNumber', 'visitStartTime', 'device.browser',\n",
       "       'device.operatingSystem', 'device.isMobile', 'device.deviceCategory',\n",
       "       'geoNetwork.continent', 'geoNetwork.subContinent', 'geoNetwork.country',\n",
       "       'geoNetwork.region', 'geoNetwork.metro', 'geoNetwork.city',\n",
       "       'geoNetwork.networkDomain', 'totals.hits', 'totals.pageviews',\n",
       "       'trafficSource.campaign', 'trafficSource.source',\n",
       "       'trafficSource.medium', 'trafficSource.keyword',\n",
       "       'trafficSource.adwordsClickInfo.page',\n",
       "       'trafficSource.adwordsClickInfo.slot',\n",
       "       'trafficSource.adwordsClickInfo.gclId',\n",
       "       'trafficSource.adwordsClickInfo.adNetworkType',\n",
       "       'trafficSource.referralPath', 'trafficSource.adContent', 'year',\n",
       "       'month', 'Date', 'weekday', 'hour', 'mean_hits_per_day',\n",
       "       'median_hits_per_day', 'sum_hits_per_day', 'min_hits_per_day',\n",
       "       'max_hits_per_day', 'mean_pageviews_per_day',\n",
       "       'median_pageviews_per_day', 'sum_pageviews_per_day',\n",
       "       'min_pageviews_per_day', 'max_pageviews_per_day'],\n",
       "      dtype='object')"
      ]
     },
     "execution_count": 365,
     "metadata": {},
     "output_type": "execute_result"
    }
   ],
   "source": [
    "test.columns"
   ]
  },
  {
   "cell_type": "code",
   "execution_count": 366,
   "metadata": {},
   "outputs": [],
   "source": [
    "#sessionId will be unique for every row and will not provide any meaningful data to our model. \n",
    "#So it can be easily dropped\n",
    "train = train.drop(['sessionId'], axis=1)\n",
    "test = test.drop('sessionId', axis=1)"
   ]
  },
  {
   "cell_type": "code",
   "execution_count": 367,
   "metadata": {},
   "outputs": [
    {
     "name": "stdout",
     "output_type": "stream",
     "text": [
      "(903653, 45)\n",
      "(804684, 44)\n"
     ]
    }
   ],
   "source": [
    "print(train.shape)\n",
    "print(test.shape)"
   ]
  },
  {
   "cell_type": "markdown",
   "metadata": {},
   "source": [
    "Before vectorizing my categorical and numerical features I'll split my train dataset in 80-20 ratio into train and validation data.\n",
    "* Splitting it before vectorizing to avoid Data Leakage"
   ]
  },
  {
   "cell_type": "markdown",
   "metadata": {},
   "source": [
    "<h3> Splitting train data 80:20"
   ]
  },
  {
   "cell_type": "code",
   "execution_count": 369,
   "metadata": {},
   "outputs": [],
   "source": [
    "import datetime"
   ]
  },
  {
   "cell_type": "code",
   "execution_count": 370,
   "metadata": {},
   "outputs": [
    {
     "name": "stdout",
     "output_type": "stream",
     "text": [
      "(765707, 45)\n",
      "(137946, 45)\n"
     ]
    }
   ],
   "source": [
    "#splitting on basis of date\n",
    "\n",
    "x_train = train[train['date']<=datetime.date(2017,5,31)] #1st Aug 2016 to 31st May,2017\n",
    "x_val = train[train['date']>datetime.date(2017,5,31)]#1st June to 1st Aug 2017\n",
    "print(x_train.shape)\n",
    "print(x_val.shape)"
   ]
  },
  {
   "cell_type": "code",
   "execution_count": 371,
   "metadata": {},
   "outputs": [],
   "source": [
    "#saving the transactionRevenue in y (as it needs to be predicted)\n",
    "y_train = x_train['totals.transactionRevenue'].to_frame()\n",
    "y_val = x_val['totals.transactionRevenue'].to_frame()"
   ]
  },
  {
   "cell_type": "code",
   "execution_count": 372,
   "metadata": {},
   "outputs": [],
   "source": [
    "#I have to predict log of total revenue per user\n",
    "#So I need to convert y to log form before splitting.\n",
    "\n",
    "y_train= np.log1p(y_train['totals.transactionRevenue'].astype(float))\n",
    "y_val= np.log1p(y_val['totals.transactionRevenue'].astype(float))"
   ]
  },
  {
   "cell_type": "code",
   "execution_count": 161,
   "metadata": {},
   "outputs": [],
   "source": [
    "#y = train['totals.transactionRevenue'] \n",
    "\n",
    "#dropping totals.transactionRevenue from train dataset\n",
    "#train = train.drop([\"totals.transactionRevenue\"],axis=1)"
   ]
  },
  {
   "cell_type": "code",
   "execution_count": 373,
   "metadata": {},
   "outputs": [
    {
     "name": "stdout",
     "output_type": "stream",
     "text": [
      "(765707, 45)\n",
      "(765707,)\n",
      "(137946, 45)\n",
      "(137946,)\n",
      "(804684, 44)\n"
     ]
    }
   ],
   "source": [
    "print(x_train.shape)\n",
    "print(y_train.shape)\n",
    "print(x_val.shape)\n",
    "print(y_val.shape)\n",
    "print(test.shape)\n",
    "\n",
    "#note--\n",
    "########abhi bhi x_train and x_val mei transactionRevenue hai"
   ]
  },
  {
   "cell_type": "markdown",
   "metadata": {},
   "source": [
    "<h3> Vectorizing Categorical data"
   ]
  },
  {
   "cell_type": "code",
   "execution_count": 374,
   "metadata": {},
   "outputs": [],
   "source": [
    "from sklearn.preprocessing import LabelEncoder"
   ]
  },
  {
   "cell_type": "code",
   "execution_count": 382,
   "metadata": {},
   "outputs": [],
   "source": [
    "categorical_columns = ['channelGrouping','device.browser','device.operatingSystem', 'device.isMobile', \n",
    "                       'device.deviceCategory','geoNetwork.continent', 'geoNetwork.subContinent', \n",
    "                       'geoNetwork.country','geoNetwork.region', 'geoNetwork.metro', 'geoNetwork.city',\n",
    "                       'geoNetwork.networkDomain',\n",
    "                       'trafficSource.campaign','trafficSource.source', 'trafficSource.medium', \n",
    "                       'trafficSource.keyword','trafficSource.referralPath', 'trafficSource.adwordsClickInfo.page',\n",
    "                       'trafficSource.adwordsClickInfo.slot','trafficSource.adwordsClickInfo.gclId',\n",
    "                       'trafficSource.adwordsClickInfo.adNetworkType','trafficSource.adContent']"
   ]
  },
  {
   "cell_type": "markdown",
   "metadata": {},
   "source": [
    "Borrowing this class LabelEncoderExt from https://stackoverflow.com/questions/21057621/sklearn-labelencoder-with-never-seen-before-values to handle situations where validation and test data encounter values that are not already seen in train dataset."
   ]
  },
  {
   "cell_type": "code",
   "execution_count": 379,
   "metadata": {},
   "outputs": [],
   "source": [
    "class LabelEncoderExt(object):\n",
    "    def __init__(self):\n",
    "        \"\"\"\n",
    "        It differs from LabelEncoder by handling new classes and providing a value for it [Unknown]\n",
    "        Unknown will be added in fit and transform will take care of new item. It gives unknown class id\n",
    "        \"\"\"\n",
    "        self.label_encoder = LabelEncoder()\n",
    "        # self.classes_ = self.label_encoder.classes_\n",
    "\n",
    "    def fit(self, data_list):\n",
    "        \"\"\"\n",
    "        This will fit the encoder for all the unique values and introduce unknown value\n",
    "        :param data_list: A list of string\n",
    "        :return: self\n",
    "        \"\"\"\n",
    "        self.label_encoder = self.label_encoder.fit(list(data_list) + ['Unknown'])\n",
    "        self.classes_ = self.label_encoder.classes_\n",
    "\n",
    "        return self\n",
    "\n",
    "    def transform(self, data_list):\n",
    "        \"\"\"\n",
    "        This will transform the data_list to id list where the new values get assigned to Unknown class\n",
    "        :param data_list:\n",
    "        :return:\n",
    "        \"\"\"\n",
    "        new_data_list = list(data_list)\n",
    "        for unique_item in np.unique(data_list):\n",
    "            if unique_item not in self.label_encoder.classes_:\n",
    "                new_data_list = ['Unknown' if x==unique_item else x for x in new_data_list]\n",
    "\n",
    "        return self.label_encoder.transform(new_data_list)"
   ]
  },
  {
   "cell_type": "code",
   "execution_count": 380,
   "metadata": {},
   "outputs": [
    {
     "data": {
      "text/html": [
       "<div>\n",
       "<style scoped>\n",
       "    .dataframe tbody tr th:only-of-type {\n",
       "        vertical-align: middle;\n",
       "    }\n",
       "\n",
       "    .dataframe tbody tr th {\n",
       "        vertical-align: top;\n",
       "    }\n",
       "\n",
       "    .dataframe thead th {\n",
       "        text-align: right;\n",
       "    }\n",
       "</style>\n",
       "<table border=\"1\" class=\"dataframe\">\n",
       "  <thead>\n",
       "    <tr style=\"text-align: right;\">\n",
       "      <th></th>\n",
       "      <th>channelGrouping</th>\n",
       "      <th>date</th>\n",
       "      <th>fullVisitorId</th>\n",
       "      <th>visitId</th>\n",
       "      <th>visitNumber</th>\n",
       "      <th>visitStartTime</th>\n",
       "      <th>device.browser</th>\n",
       "      <th>device.operatingSystem</th>\n",
       "      <th>device.isMobile</th>\n",
       "      <th>device.deviceCategory</th>\n",
       "      <th>...</th>\n",
       "      <th>mean_hits_per_day</th>\n",
       "      <th>median_hits_per_day</th>\n",
       "      <th>sum_hits_per_day</th>\n",
       "      <th>min_hits_per_day</th>\n",
       "      <th>max_hits_per_day</th>\n",
       "      <th>mean_pageviews_per_day</th>\n",
       "      <th>median_pageviews_per_day</th>\n",
       "      <th>sum_pageviews_per_day</th>\n",
       "      <th>min_pageviews_per_day</th>\n",
       "      <th>max_pageviews_per_day</th>\n",
       "    </tr>\n",
       "  </thead>\n",
       "  <tbody>\n",
       "    <tr>\n",
       "      <td>0</td>\n",
       "      <td>Organic Search</td>\n",
       "      <td>2016-09-02</td>\n",
       "      <td>1131660440785968503</td>\n",
       "      <td>1472830385</td>\n",
       "      <td>1</td>\n",
       "      <td>1472830385</td>\n",
       "      <td>Chrome</td>\n",
       "      <td>Windows</td>\n",
       "      <td>False</td>\n",
       "      <td>desktop</td>\n",
       "      <td>...</td>\n",
       "      <td>3.943076</td>\n",
       "      <td>1.0</td>\n",
       "      <td>83747.0</td>\n",
       "      <td>1.0</td>\n",
       "      <td>233.0</td>\n",
       "      <td>3.371298</td>\n",
       "      <td>1.0</td>\n",
       "      <td>71603.0</td>\n",
       "      <td>1.0</td>\n",
       "      <td>176.0</td>\n",
       "    </tr>\n",
       "    <tr>\n",
       "      <td>1</td>\n",
       "      <td>Organic Search</td>\n",
       "      <td>2016-09-02</td>\n",
       "      <td>377306020877927890</td>\n",
       "      <td>1472880147</td>\n",
       "      <td>1</td>\n",
       "      <td>1472880147</td>\n",
       "      <td>Firefox</td>\n",
       "      <td>Macintosh</td>\n",
       "      <td>False</td>\n",
       "      <td>desktop</td>\n",
       "      <td>...</td>\n",
       "      <td>3.943076</td>\n",
       "      <td>1.0</td>\n",
       "      <td>83747.0</td>\n",
       "      <td>1.0</td>\n",
       "      <td>233.0</td>\n",
       "      <td>3.371298</td>\n",
       "      <td>1.0</td>\n",
       "      <td>71603.0</td>\n",
       "      <td>1.0</td>\n",
       "      <td>176.0</td>\n",
       "    </tr>\n",
       "  </tbody>\n",
       "</table>\n",
       "<p>2 rows × 45 columns</p>\n",
       "</div>"
      ],
      "text/plain": [
       "  channelGrouping        date        fullVisitorId     visitId  visitNumber  \\\n",
       "0  Organic Search  2016-09-02  1131660440785968503  1472830385            1   \n",
       "1  Organic Search  2016-09-02   377306020877927890  1472880147            1   \n",
       "\n",
       "   visitStartTime device.browser device.operatingSystem  device.isMobile  \\\n",
       "0      1472830385         Chrome                Windows            False   \n",
       "1      1472880147        Firefox              Macintosh            False   \n",
       "\n",
       "  device.deviceCategory  ... mean_hits_per_day median_hits_per_day  \\\n",
       "0               desktop  ...          3.943076                 1.0   \n",
       "1               desktop  ...          3.943076                 1.0   \n",
       "\n",
       "  sum_hits_per_day min_hits_per_day max_hits_per_day mean_pageviews_per_day  \\\n",
       "0          83747.0              1.0            233.0               3.371298   \n",
       "1          83747.0              1.0            233.0               3.371298   \n",
       "\n",
       "  median_pageviews_per_day  sum_pageviews_per_day  min_pageviews_per_day  \\\n",
       "0                      1.0                71603.0                    1.0   \n",
       "1                      1.0                71603.0                    1.0   \n",
       "\n",
       "   max_pageviews_per_day  \n",
       "0                  176.0  \n",
       "1                  176.0  \n",
       "\n",
       "[2 rows x 45 columns]"
      ]
     },
     "execution_count": 380,
     "metadata": {},
     "output_type": "execute_result"
    }
   ],
   "source": [
    "x_train.head(2)"
   ]
  },
  {
   "cell_type": "code",
   "execution_count": 383,
   "metadata": {},
   "outputs": [
    {
     "name": "stdout",
     "output_type": "stream",
     "text": [
      "Time taken: -8 mins\n"
     ]
    }
   ],
   "source": [
    "#.values()- gives the values in that column in array format (without index)\n",
    "\n",
    "start = pd.datetime.now().minute\n",
    "\n",
    "for c in categorical_columns:\n",
    "\n",
    "    le = LabelEncoderExt()\n",
    "    \n",
    "    train_vals = list(x_train[c].values.astype(str)) \n",
    "    cv_vals = list(x_val[c].values.astype(str))\n",
    "    test_vals = list(test[c].values.astype(str))\n",
    "    \n",
    "    #LabelEncoder() will now be fit on the train column values\n",
    "    \n",
    "    le.fit(train_vals)\n",
    "    \n",
    "    x_train[c] = le.transform(train_vals)\n",
    "    x_val[c] = le.transform(cv_vals)\n",
    "    test[c] = le.transform(test_vals)\n",
    "    \n",
    "    \n",
    "print(\"Time taken:\", pd.datetime.now().minute- start, \"mins\")"
   ]
  },
  {
   "cell_type": "code",
   "execution_count": 384,
   "metadata": {},
   "outputs": [
    {
     "data": {
      "text/html": [
       "<div>\n",
       "<style scoped>\n",
       "    .dataframe tbody tr th:only-of-type {\n",
       "        vertical-align: middle;\n",
       "    }\n",
       "\n",
       "    .dataframe tbody tr th {\n",
       "        vertical-align: top;\n",
       "    }\n",
       "\n",
       "    .dataframe thead th {\n",
       "        text-align: right;\n",
       "    }\n",
       "</style>\n",
       "<table border=\"1\" class=\"dataframe\">\n",
       "  <thead>\n",
       "    <tr style=\"text-align: right;\">\n",
       "      <th></th>\n",
       "      <th>channelGrouping</th>\n",
       "      <th>date</th>\n",
       "      <th>fullVisitorId</th>\n",
       "      <th>visitId</th>\n",
       "      <th>visitNumber</th>\n",
       "      <th>visitStartTime</th>\n",
       "      <th>device.browser</th>\n",
       "      <th>device.operatingSystem</th>\n",
       "      <th>device.isMobile</th>\n",
       "      <th>device.deviceCategory</th>\n",
       "      <th>...</th>\n",
       "      <th>mean_hits_per_day</th>\n",
       "      <th>median_hits_per_day</th>\n",
       "      <th>sum_hits_per_day</th>\n",
       "      <th>min_hits_per_day</th>\n",
       "      <th>max_hits_per_day</th>\n",
       "      <th>mean_pageviews_per_day</th>\n",
       "      <th>median_pageviews_per_day</th>\n",
       "      <th>sum_pageviews_per_day</th>\n",
       "      <th>min_pageviews_per_day</th>\n",
       "      <th>max_pageviews_per_day</th>\n",
       "    </tr>\n",
       "  </thead>\n",
       "  <tbody>\n",
       "    <tr>\n",
       "      <td>0</td>\n",
       "      <td>4</td>\n",
       "      <td>2016-09-02</td>\n",
       "      <td>1131660440785968503</td>\n",
       "      <td>1472830385</td>\n",
       "      <td>1</td>\n",
       "      <td>1472830385</td>\n",
       "      <td>49</td>\n",
       "      <td>17</td>\n",
       "      <td>0</td>\n",
       "      <td>1</td>\n",
       "      <td>...</td>\n",
       "      <td>3.943076</td>\n",
       "      <td>1.0</td>\n",
       "      <td>83747.0</td>\n",
       "      <td>1.0</td>\n",
       "      <td>233.0</td>\n",
       "      <td>3.371298</td>\n",
       "      <td>1.0</td>\n",
       "      <td>71603.0</td>\n",
       "      <td>1.0</td>\n",
       "      <td>176.0</td>\n",
       "    </tr>\n",
       "    <tr>\n",
       "      <td>1</td>\n",
       "      <td>4</td>\n",
       "      <td>2016-09-02</td>\n",
       "      <td>377306020877927890</td>\n",
       "      <td>1472880147</td>\n",
       "      <td>1</td>\n",
       "      <td>1472880147</td>\n",
       "      <td>6</td>\n",
       "      <td>7</td>\n",
       "      <td>0</td>\n",
       "      <td>1</td>\n",
       "      <td>...</td>\n",
       "      <td>3.943076</td>\n",
       "      <td>1.0</td>\n",
       "      <td>83747.0</td>\n",
       "      <td>1.0</td>\n",
       "      <td>233.0</td>\n",
       "      <td>3.371298</td>\n",
       "      <td>1.0</td>\n",
       "      <td>71603.0</td>\n",
       "      <td>1.0</td>\n",
       "      <td>176.0</td>\n",
       "    </tr>\n",
       "  </tbody>\n",
       "</table>\n",
       "<p>2 rows × 45 columns</p>\n",
       "</div>"
      ],
      "text/plain": [
       "   channelGrouping        date        fullVisitorId     visitId  visitNumber  \\\n",
       "0                4  2016-09-02  1131660440785968503  1472830385            1   \n",
       "1                4  2016-09-02   377306020877927890  1472880147            1   \n",
       "\n",
       "   visitStartTime  device.browser  device.operatingSystem  device.isMobile  \\\n",
       "0      1472830385              49                      17                0   \n",
       "1      1472880147               6                       7                0   \n",
       "\n",
       "   device.deviceCategory  ...  mean_hits_per_day  median_hits_per_day  \\\n",
       "0                      1  ...           3.943076                  1.0   \n",
       "1                      1  ...           3.943076                  1.0   \n",
       "\n",
       "   sum_hits_per_day  min_hits_per_day  max_hits_per_day  \\\n",
       "0           83747.0               1.0             233.0   \n",
       "1           83747.0               1.0             233.0   \n",
       "\n",
       "   mean_pageviews_per_day  median_pageviews_per_day  sum_pageviews_per_day  \\\n",
       "0                3.371298                       1.0                71603.0   \n",
       "1                3.371298                       1.0                71603.0   \n",
       "\n",
       "   min_pageviews_per_day  max_pageviews_per_day  \n",
       "0                    1.0                  176.0  \n",
       "1                    1.0                  176.0  \n",
       "\n",
       "[2 rows x 45 columns]"
      ]
     },
     "execution_count": 384,
     "metadata": {},
     "output_type": "execute_result"
    }
   ],
   "source": [
    "x_train.head(2)"
   ]
  },
  {
   "cell_type": "markdown",
   "metadata": {},
   "source": [
    "<h2> Vectorizing Numerical Data"
   ]
  },
  {
   "cell_type": "code",
   "execution_count": 385,
   "metadata": {},
   "outputs": [],
   "source": [
    "from sklearn.preprocessing import Normalizer"
   ]
  },
  {
   "cell_type": "code",
   "execution_count": 409,
   "metadata": {},
   "outputs": [],
   "source": [
    "numerical_columns = ['year','month', 'Date', 'weekday', 'hour',\n",
    "        'mean_hits_per_day','median_hits_per_day', 'sum_hits_per_day', 'min_hits_per_day','max_hits_per_day',\n",
    "       'mean_pageviews_per_day','median_pageviews_per_day', 'sum_pageviews_per_day','min_pageviews_per_day',\n",
    "        'max_pageviews_per_day','totals.hits']#, 'totals.pageviews']\n",
    "\n",
    "#fitting the Normalizer() on train data and transforming complete data (to aovid Data Leakage)\n",
    "\n",
    "for c in numerical_columns:\n",
    "\n",
    "    n_vect = Normalizer()\n",
    "    \n",
    "    n_vect.fit(x_train[c].values.reshape(1,-1))\n",
    "    \n",
    "    #########\n",
    "    a = n_vect.transform(x_train[c].values.reshape(1,-1)).reshape(-1,1)\n",
    "    list1=[]\n",
    "    for ele in a:\n",
    "        list1.append(float(ele))\n",
    "        \n",
    "    x_train[c] = list1\n",
    "    \n",
    "    #############\n",
    "    b = n_vect.transform(x_val[c].values.reshape(1,-1)).reshape(-1,1)\n",
    "    list2=[]\n",
    "    for ele in b:\n",
    "        list2.append(float(ele))\n",
    "        \n",
    "    x_val[c] = list2\n",
    "    \n",
    "    ###############\n",
    "    d = n_vect.transform(test[c].values.reshape(1,-1)).reshape(-1,1)\n",
    "    list3=[]\n",
    "    for ele in d:\n",
    "        list3.append(float(ele))\n",
    "        \n",
    "    test[c] = list3\n",
    "    "
   ]
  },
  {
   "cell_type": "code",
   "execution_count": 410,
   "metadata": {},
   "outputs": [],
   "source": [
    "#train['totals.pageviews'].fillna(0).unique()"
   ]
  },
  {
   "cell_type": "markdown",
   "metadata": {},
   "source": [
    "<h3>Building Models"
   ]
  },
  {
   "cell_type": "code",
   "execution_count": 411,
   "metadata": {},
   "outputs": [
    {
     "name": "stdout",
     "output_type": "stream",
     "text": [
      "(765707, 45)\n",
      "(765707,)\n",
      "(137946, 45)\n",
      "(137946,)\n",
      "(804684, 44)\n"
     ]
    }
   ],
   "source": [
    "print(x_train.shape)\n",
    "print(y_train.shape)\n",
    "print(x_val.shape)\n",
    "print(y_val.shape)\n",
    "print(test.shape)"
   ]
  },
  {
   "cell_type": "code",
   "execution_count": 412,
   "metadata": {},
   "outputs": [
    {
     "data": {
      "text/plain": [
       "Index(['channelGrouping', 'date', 'fullVisitorId', 'visitId', 'visitNumber',\n",
       "       'visitStartTime', 'device.browser', 'device.operatingSystem',\n",
       "       'device.isMobile', 'device.deviceCategory', 'geoNetwork.continent',\n",
       "       'geoNetwork.subContinent', 'geoNetwork.country', 'geoNetwork.region',\n",
       "       'geoNetwork.metro', 'geoNetwork.city', 'geoNetwork.networkDomain',\n",
       "       'totals.hits', 'totals.pageviews', 'totals.transactionRevenue',\n",
       "       'trafficSource.campaign', 'trafficSource.source',\n",
       "       'trafficSource.medium', 'trafficSource.keyword',\n",
       "       'trafficSource.referralPath', 'trafficSource.adwordsClickInfo.page',\n",
       "       'trafficSource.adwordsClickInfo.slot',\n",
       "       'trafficSource.adwordsClickInfo.gclId',\n",
       "       'trafficSource.adwordsClickInfo.adNetworkType',\n",
       "       'trafficSource.adContent', 'year', 'month', 'Date', 'weekday', 'hour',\n",
       "       'mean_hits_per_day', 'median_hits_per_day', 'sum_hits_per_day',\n",
       "       'min_hits_per_day', 'max_hits_per_day', 'mean_pageviews_per_day',\n",
       "       'median_pageviews_per_day', 'sum_pageviews_per_day',\n",
       "       'min_pageviews_per_day', 'max_pageviews_per_day'],\n",
       "      dtype='object')"
      ]
     },
     "execution_count": 412,
     "metadata": {},
     "output_type": "execute_result"
    }
   ],
   "source": [
    "x_train.columns"
   ]
  },
  {
   "cell_type": "code",
   "execution_count": 413,
   "metadata": {},
   "outputs": [],
   "source": [
    "#storing the fullVisitorId\n",
    "fullVisitorId_train = x_train['fullVisitorId']\n",
    "fullVisitorId_val = x_val['fullVisitorId']\n",
    "fullVisitorId_test = test['fullVisitorId']"
   ]
  },
  {
   "cell_type": "code",
   "execution_count": 415,
   "metadata": {},
   "outputs": [
    {
     "data": {
      "text/plain": [
       "'1131660440785968503'"
      ]
     },
     "execution_count": 415,
     "metadata": {},
     "output_type": "execute_result"
    }
   ],
   "source": [
    "#fullVisitorId_train[0]#---in str format"
   ]
  },
  {
   "cell_type": "code",
   "execution_count": 416,
   "metadata": {},
   "outputs": [],
   "source": [
    "#dropping columns that wont contribute to the model\n",
    "#also dropping transactionRevenue from train and val data\n",
    "\n",
    "new_x_train = x_train.drop(['date','fullVisitorId','visitId','visitStartTime','visitNumber','totals.transactionRevenue'],axis=1)\n",
    "new_x_val = x_val.drop(['date','fullVisitorId','visitId','visitStartTime','visitNumber','totals.transactionRevenue'],axis=1)\n",
    "new_test = test.drop(['date','fullVisitorId','visitId','visitStartTime','visitNumber'],axis=1)"
   ]
  },
  {
   "cell_type": "code",
   "execution_count": 531,
   "metadata": {},
   "outputs": [
    {
     "name": "stdout",
     "output_type": "stream",
     "text": [
      "(765707, 39)\n",
      "(765707,)\n",
      "(137946, 39)\n",
      "(137946,)\n",
      "(804684, 39)\n"
     ]
    }
   ],
   "source": [
    "print(new_x_train.shape)\n",
    "print(y_train.shape)\n",
    "print(new_x_val.shape)\n",
    "print(y_val.shape)\n",
    "print(new_test.shape)"
   ]
  },
  {
   "cell_type": "markdown",
   "metadata": {},
   "source": [
    "<h3>Modelling"
   ]
  },
  {
   "cell_type": "markdown",
   "metadata": {},
   "source": [
    "<b>Metric- </b>Root mean square error (rmse)"
   ]
  },
  {
   "cell_type": "code",
   "execution_count": 502,
   "metadata": {},
   "outputs": [
    {
     "data": {
      "text/plain": [
       "Index(['channelGrouping', 'device.browser', 'device.operatingSystem',\n",
       "       'device.isMobile', 'device.deviceCategory', 'geoNetwork.continent',\n",
       "       'geoNetwork.subContinent', 'geoNetwork.country', 'geoNetwork.region',\n",
       "       'geoNetwork.metro', 'geoNetwork.city', 'geoNetwork.networkDomain',\n",
       "       'totals.hits', 'totals.pageviews', 'trafficSource.campaign',\n",
       "       'trafficSource.source', 'trafficSource.medium', 'trafficSource.keyword',\n",
       "       'trafficSource.referralPath', 'trafficSource.adwordsClickInfo.page',\n",
       "       'trafficSource.adwordsClickInfo.slot',\n",
       "       'trafficSource.adwordsClickInfo.gclId',\n",
       "       'trafficSource.adwordsClickInfo.adNetworkType',\n",
       "       'trafficSource.adContent', 'year', 'month', 'Date', 'weekday', 'hour',\n",
       "       'mean_hits_per_day', 'median_hits_per_day', 'sum_hits_per_day',\n",
       "       'min_hits_per_day', 'max_hits_per_day', 'mean_pageviews_per_day',\n",
       "       'median_pageviews_per_day', 'sum_pageviews_per_day',\n",
       "       'min_pageviews_per_day', 'max_pageviews_per_day'],\n",
       "      dtype='object')"
      ]
     },
     "execution_count": 502,
     "metadata": {},
     "output_type": "execute_result"
    }
   ],
   "source": [
    "new_x_train.columns"
   ]
  },
  {
   "cell_type": "code",
   "execution_count": 535,
   "metadata": {},
   "outputs": [],
   "source": [
    "from sklearn import tree\n",
    "from sklearn.model_selection import GridSearchCV\n",
    "from sklearn.metrics import roc_auc_score"
   ]
  },
  {
   "cell_type": "code",
   "execution_count": null,
   "metadata": {},
   "outputs": [],
   "source": [
    "depth = [4]\n",
    "min_sample_split = [2]\n",
    "parameters = {'max_depth':depth , 'min_samples_split': min_sample_split } \n",
    "neigh = tree.DecisionTreeClassifier()\n",
    "model = GridSearchCV(neigh, parameters,scoring='roc_auc') \n",
    "model.fit(new_x_train,y_train)"
   ]
  },
  {
   "cell_type": "code",
   "execution_count": 542,
   "metadata": {},
   "outputs": [],
   "source": [
    "from sklearn import preprocessing\n",
    "from sklearn import utils\n",
    "lab_enc = preprocessing.LabelEncoder()\n",
    "\n",
    "training_scores_Y  = np.array( [1.4, 9.2, 2.5, 2.2] )"
   ]
  },
  {
   "cell_type": "code",
   "execution_count": 543,
   "metadata": {},
   "outputs": [
    {
     "name": "stdout",
     "output_type": "stream",
     "text": [
      "[0 3 2 1]\n",
      "continuous\n",
      "multiclass\n",
      "multiclass\n"
     ]
    }
   ],
   "source": [
    "training_scores_encoded = lab_enc.fit_transform(training_scores_Y)\n",
    "print(training_scores_encoded)\n",
    "print(utils.multiclass.type_of_target(training_scores_Y))\n",
    "print(utils.multiclass.type_of_target(training_scores_Y.astype('int')))\n",
    "print(utils.multiclass.type_of_target(training_scores_encoded))"
   ]
  },
  {
   "cell_type": "code",
   "execution_count": 545,
   "metadata": {},
   "outputs": [],
   "source": [
    "xgb_model = xgb.XGBClassifier(learning_rate=0.02, n_estimators=5,max_depth= 2, objective= 'binary:logistic',\n",
    "silent=True, nthread=1)"
   ]
  },
  {
   "cell_type": "code",
   "execution_count": null,
   "metadata": {},
   "outputs": [],
   "source": [
    "#hyperparameter tuning\n",
    "estimator = [5, 10, 50, 100, 200]\n",
    "depth = [2, 3, 4, 5, 6, 7, 8]\n",
    "\n",
    "final_train_auc = [] \n",
    "final_cv_auc = []\n",
    "\n",
    "for i in tqdm(estimator): \n",
    "    train_auc = []\n",
    "    cv_auc = []\n",
    "    for j in tqdm(depth):\n",
    "        \n",
    "        xgb_model = xgb.XGBClassifier(learning_rate=0.02, n_estimators=i,max_depth= j, objective= 'binary:logistic',\n",
    "                                        silent=True, nthread=1) \n",
    "        \n",
    "        xgb_model.fit(x_bow_train_, y_train_)\n",
    "        \n",
    "        y_train_pred = predict_prob(xgb_model, x_bow_train_.tocsc()) \n",
    "        y_cv_pred = predict_prob(xgb_model, x_bow_cv_.tocsc())\n",
    "        \n",
    "        train_auc.append(roc_auc_score(y_train_,y_train_pred))\n",
    "        cv_auc.append(roc_auc_score(y_cv_, y_cv_pred)) \n",
    "        \n",
    "    final_train_auc.append(train_auc) \n",
    "    final_cv_auc.append(cv_auc)\n",
    " "
   ]
  },
  {
   "cell_type": "code",
   "execution_count": null,
   "metadata": {},
   "outputs": [],
   "source": []
  },
  {
   "cell_type": "code",
   "execution_count": null,
   "metadata": {},
   "outputs": [],
   "source": [
    "d_test = xgb.DMatrix(x_bow_test_, label = y_test_)\n",
    "d_test = xgb.DMatrix(x_bow_test_, label = y_test_)"
   ]
  },
  {
   "cell_type": "code",
   "execution_count": null,
   "metadata": {},
   "outputs": [],
   "source": [
    "watchlist = [(d_train, 'train'), (d_test, 'valid')]"
   ]
  },
  {
   "cell_type": "code",
   "execution_count": null,
   "metadata": {},
   "outputs": [],
   "source": [
    "bst = xgb.train(best_params, d_train, 200, watchlist, early_stopping_rounds=10, verbose_eval=10)"
   ]
  },
  {
   "cell_type": "code",
   "execution_count": null,
   "metadata": {},
   "outputs": [],
   "source": [
    "y_train_pred = bst.predict(d_train)\n",
    "y_test_pred = bst.predict(d_test)"
   ]
  },
  {
   "cell_type": "code",
   "execution_count": null,
   "metadata": {},
   "outputs": [],
   "source": []
  },
  {
   "cell_type": "code",
   "execution_count": null,
   "metadata": {},
   "outputs": [],
   "source": []
  },
  {
   "cell_type": "markdown",
   "metadata": {},
   "source": [
    "<h3> Light GBM"
   ]
  },
  {
   "cell_type": "code",
   "execution_count": 418,
   "metadata": {},
   "outputs": [],
   "source": [
    "import lightgbm as lgb "
   ]
  },
  {
   "cell_type": "code",
   "execution_count": 467,
   "metadata": {},
   "outputs": [],
   "source": [
    "param = {'num_leaves': 60,##300\n",
    "         'min_data_in_leaf': 30, \n",
    "         'objective':'regression',\n",
    "         'max_depth': -1,\n",
    "         'learning_rate': 0.005,\n",
    "         \"min_child_samples\": 20,\n",
    "         \"boosting\": \"gbdt\",\n",
    "         \"feature_fraction\": 0.9,\n",
    "         \"bagging_freq\": 1,\n",
    "         \"bagging_fraction\": 0.8 ,\n",
    "         \"bagging_seed\": 11,\n",
    "         \"metric\": 'rmse',\n",
    "         \"lambda_l1\": 1,\n",
    "         \"verbosity\": -1}"
   ]
  },
  {
   "cell_type": "code",
   "execution_count": 420,
   "metadata": {},
   "outputs": [],
   "source": [
    "from sklearn.model_selection import KFold"
   ]
  },
  {
   "cell_type": "code",
   "execution_count": 468,
   "metadata": {},
   "outputs": [
    {
     "name": "stdout",
     "output_type": "stream",
     "text": [
      "Training until validation scores don't improve for 500 rounds\n",
      "[400]\ttraining's rmse: 1.60999\tvalid_1's rmse: 1.64951\n",
      "[800]\ttraining's rmse: 1.54909\tvalid_1's rmse: 1.62616\n",
      "[1200]\ttraining's rmse: 1.51408\tvalid_1's rmse: 1.62028\n",
      "[1600]\ttraining's rmse: 1.4867\tvalid_1's rmse: 1.61846\n",
      "[2000]\ttraining's rmse: 1.46225\tvalid_1's rmse: 1.61741\n",
      "[2400]\ttraining's rmse: 1.43982\tvalid_1's rmse: 1.61742\n",
      "Early stopping, best iteration is:\n",
      "[2076]\ttraining's rmse: 1.45768\tvalid_1's rmse: 1.61724\n",
      "Training until validation scores don't improve for 500 rounds\n",
      "[400]\ttraining's rmse: 1.6111\tvalid_1's rmse: 1.65164\n",
      "[800]\ttraining's rmse: 1.55055\tvalid_1's rmse: 1.62163\n",
      "[1200]\ttraining's rmse: 1.51523\tvalid_1's rmse: 1.61463\n",
      "[1600]\ttraining's rmse: 1.48751\tvalid_1's rmse: 1.61182\n",
      "[2000]\ttraining's rmse: 1.46337\tvalid_1's rmse: 1.61062\n",
      "[2400]\ttraining's rmse: 1.44092\tvalid_1's rmse: 1.60979\n",
      "[2800]\ttraining's rmse: 1.42084\tvalid_1's rmse: 1.60944\n",
      "[3200]\ttraining's rmse: 1.40211\tvalid_1's rmse: 1.60954\n",
      "Early stopping, best iteration is:\n",
      "[3070]\ttraining's rmse: 1.40782\tvalid_1's rmse: 1.60925\n",
      "Training until validation scores don't improve for 500 rounds\n",
      "[400]\ttraining's rmse: 1.60797\tvalid_1's rmse: 1.65558\n",
      "[800]\ttraining's rmse: 1.54687\tvalid_1's rmse: 1.63413\n",
      "[1200]\ttraining's rmse: 1.51132\tvalid_1's rmse: 1.62975\n",
      "[1600]\ttraining's rmse: 1.48392\tvalid_1's rmse: 1.62884\n",
      "[2000]\ttraining's rmse: 1.45966\tvalid_1's rmse: 1.62856\n",
      "[2400]\ttraining's rmse: 1.4373\tvalid_1's rmse: 1.62874\n",
      "Early stopping, best iteration is:\n",
      "[2018]\ttraining's rmse: 1.45861\tvalid_1's rmse: 1.62847\n",
      "Training until validation scores don't improve for 500 rounds\n",
      "[400]\ttraining's rmse: 1.61194\tvalid_1's rmse: 1.64379\n",
      "[800]\ttraining's rmse: 1.55162\tvalid_1's rmse: 1.61868\n",
      "[1200]\ttraining's rmse: 1.51688\tvalid_1's rmse: 1.61373\n",
      "[1600]\ttraining's rmse: 1.48968\tvalid_1's rmse: 1.61185\n",
      "[2000]\ttraining's rmse: 1.46541\tvalid_1's rmse: 1.61113\n",
      "[2400]\ttraining's rmse: 1.44303\tvalid_1's rmse: 1.61061\n",
      "[2800]\ttraining's rmse: 1.42237\tvalid_1's rmse: 1.61011\n",
      "[3200]\ttraining's rmse: 1.40355\tvalid_1's rmse: 1.61032\n",
      "Early stopping, best iteration is:\n",
      "[2727]\ttraining's rmse: 1.42607\tvalid_1's rmse: 1.61\n",
      "Training until validation scores don't improve for 500 rounds\n",
      "[400]\ttraining's rmse: 1.61023\tvalid_1's rmse: 1.65151\n",
      "[800]\ttraining's rmse: 1.54904\tvalid_1's rmse: 1.62678\n",
      "[1200]\ttraining's rmse: 1.51346\tvalid_1's rmse: 1.62174\n",
      "[1600]\ttraining's rmse: 1.4863\tvalid_1's rmse: 1.62068\n",
      "[2000]\ttraining's rmse: 1.46212\tvalid_1's rmse: 1.62017\n",
      "[2400]\ttraining's rmse: 1.44005\tvalid_1's rmse: 1.62019\n",
      "Early stopping, best iteration is:\n",
      "[2153]\ttraining's rmse: 1.45338\tvalid_1's rmse: 1.61997\n"
     ]
    }
   ],
   "source": [
    "folds = KFold(n_splits=5, shuffle=True, random_state=15)\n",
    "\n",
    "for fold_, (trn_idx, val_idx) in enumerate(folds.split(new_x_train.values, y_train.values)):\n",
    "    trn_data = lgb.Dataset(new_x_train.iloc[trn_idx], label=y_train.iloc[trn_idx])#, categorical_feature=categorical_feats)\n",
    "    val_data = lgb.Dataset(new_x_train.iloc[val_idx], label=y_train.iloc[val_idx])#, categorical_feature=categorical_feats)\n",
    "    \n",
    "    num_round = 10000\n",
    "    clf = lgb.train(param, trn_data, num_round, valid_sets = [trn_data, val_data], verbose_eval=400, early_stopping_rounds = 500)#, categorical_feature=categorical_feats)\n",
    "    "
   ]
  },
  {
   "cell_type": "markdown",
   "metadata": {},
   "source": [
    "<h3>Predictions"
   ]
  },
  {
   "cell_type": "code",
   "execution_count": 485,
   "metadata": {},
   "outputs": [],
   "source": [
    "#new_test = new_test.drop('PredictedLogRevenue',axis=1)"
   ]
  },
  {
   "cell_type": "code",
   "execution_count": 486,
   "metadata": {},
   "outputs": [],
   "source": [
    "#predicting values for the test data\n",
    "pred = clf.predict(new_test, num_iteration=clf.best_iteration)"
   ]
  },
  {
   "cell_type": "code",
   "execution_count": 487,
   "metadata": {},
   "outputs": [],
   "source": [
    "pred =pred/folds.n_splits"
   ]
  },
  {
   "cell_type": "code",
   "execution_count": 488,
   "metadata": {},
   "outputs": [
    {
     "data": {
      "text/html": [
       "<div>\n",
       "<style scoped>\n",
       "    .dataframe tbody tr th:only-of-type {\n",
       "        vertical-align: middle;\n",
       "    }\n",
       "\n",
       "    .dataframe tbody tr th {\n",
       "        vertical-align: top;\n",
       "    }\n",
       "\n",
       "    .dataframe thead th {\n",
       "        text-align: right;\n",
       "    }\n",
       "</style>\n",
       "<table border=\"1\" class=\"dataframe\">\n",
       "  <thead>\n",
       "    <tr style=\"text-align: right;\">\n",
       "      <th></th>\n",
       "      <th>channelGrouping</th>\n",
       "      <th>device.browser</th>\n",
       "      <th>device.operatingSystem</th>\n",
       "      <th>device.isMobile</th>\n",
       "      <th>device.deviceCategory</th>\n",
       "      <th>geoNetwork.continent</th>\n",
       "      <th>geoNetwork.subContinent</th>\n",
       "      <th>geoNetwork.country</th>\n",
       "      <th>geoNetwork.region</th>\n",
       "      <th>geoNetwork.metro</th>\n",
       "      <th>...</th>\n",
       "      <th>median_hits_per_day</th>\n",
       "      <th>sum_hits_per_day</th>\n",
       "      <th>min_hits_per_day</th>\n",
       "      <th>max_hits_per_day</th>\n",
       "      <th>mean_pageviews_per_day</th>\n",
       "      <th>median_pageviews_per_day</th>\n",
       "      <th>sum_pageviews_per_day</th>\n",
       "      <th>min_pageviews_per_day</th>\n",
       "      <th>max_pageviews_per_day</th>\n",
       "      <th>PredictedLogRevenue</th>\n",
       "    </tr>\n",
       "  </thead>\n",
       "  <tbody>\n",
       "    <tr>\n",
       "      <td>0</td>\n",
       "      <td>4</td>\n",
       "      <td>49</td>\n",
       "      <td>7</td>\n",
       "      <td>0</td>\n",
       "      <td>1</td>\n",
       "      <td>3</td>\n",
       "      <td>16</td>\n",
       "      <td>172</td>\n",
       "      <td>0</td>\n",
       "      <td>0</td>\n",
       "      <td>...</td>\n",
       "      <td>0.000103</td>\n",
       "      <td>0.000378</td>\n",
       "      <td>0.000036</td>\n",
       "      <td>0.000697</td>\n",
       "      <td>0.000177</td>\n",
       "      <td>0.000097</td>\n",
       "      <td>0.000369</td>\n",
       "      <td>0.00004</td>\n",
       "      <td>0.000661</td>\n",
       "      <td>0.046814</td>\n",
       "    </tr>\n",
       "    <tr>\n",
       "      <td>289310</td>\n",
       "      <td>4</td>\n",
       "      <td>49</td>\n",
       "      <td>7</td>\n",
       "      <td>0</td>\n",
       "      <td>1</td>\n",
       "      <td>3</td>\n",
       "      <td>16</td>\n",
       "      <td>172</td>\n",
       "      <td>0</td>\n",
       "      <td>0</td>\n",
       "      <td>...</td>\n",
       "      <td>0.000103</td>\n",
       "      <td>0.000378</td>\n",
       "      <td>0.000036</td>\n",
       "      <td>0.000697</td>\n",
       "      <td>0.000177</td>\n",
       "      <td>0.000097</td>\n",
       "      <td>0.000369</td>\n",
       "      <td>0.00004</td>\n",
       "      <td>0.000661</td>\n",
       "      <td>0.046672</td>\n",
       "    </tr>\n",
       "  </tbody>\n",
       "</table>\n",
       "<p>2 rows × 40 columns</p>\n",
       "</div>"
      ],
      "text/plain": [
       "        channelGrouping  device.browser  device.operatingSystem  \\\n",
       "0                     4              49                       7   \n",
       "289310                4              49                       7   \n",
       "\n",
       "        device.isMobile  device.deviceCategory  geoNetwork.continent  \\\n",
       "0                     0                      1                     3   \n",
       "289310                0                      1                     3   \n",
       "\n",
       "        geoNetwork.subContinent  geoNetwork.country  geoNetwork.region  \\\n",
       "0                            16                 172                  0   \n",
       "289310                       16                 172                  0   \n",
       "\n",
       "        geoNetwork.metro  ...  median_hits_per_day  sum_hits_per_day  \\\n",
       "0                      0  ...             0.000103          0.000378   \n",
       "289310                 0  ...             0.000103          0.000378   \n",
       "\n",
       "        min_hits_per_day  max_hits_per_day  mean_pageviews_per_day  \\\n",
       "0               0.000036          0.000697                0.000177   \n",
       "289310          0.000036          0.000697                0.000177   \n",
       "\n",
       "        median_pageviews_per_day  sum_pageviews_per_day  \\\n",
       "0                       0.000097               0.000369   \n",
       "289310                  0.000097               0.000369   \n",
       "\n",
       "        min_pageviews_per_day  max_pageviews_per_day  PredictedLogRevenue  \n",
       "0                     0.00004               0.000661             0.046814  \n",
       "289310                0.00004               0.000661             0.046672  \n",
       "\n",
       "[2 rows x 40 columns]"
      ]
     },
     "execution_count": 488,
     "metadata": {},
     "output_type": "execute_result"
    }
   ],
   "source": [
    "new_test[\"PredictedLogRevenue\"] = np.expm1(pred) #adding the exponential value of pred to new_test\n",
    "new_test.head(2)"
   ]
  },
  {
   "cell_type": "code",
   "execution_count": 489,
   "metadata": {},
   "outputs": [
    {
     "data": {
      "text/html": [
       "<div>\n",
       "<style scoped>\n",
       "    .dataframe tbody tr th:only-of-type {\n",
       "        vertical-align: middle;\n",
       "    }\n",
       "\n",
       "    .dataframe tbody tr th {\n",
       "        vertical-align: top;\n",
       "    }\n",
       "\n",
       "    .dataframe thead th {\n",
       "        text-align: right;\n",
       "    }\n",
       "</style>\n",
       "<table border=\"1\" class=\"dataframe\">\n",
       "  <thead>\n",
       "    <tr style=\"text-align: right;\">\n",
       "      <th></th>\n",
       "      <th>channelGrouping</th>\n",
       "      <th>date</th>\n",
       "      <th>fullVisitorId</th>\n",
       "      <th>visitId</th>\n",
       "      <th>visitNumber</th>\n",
       "      <th>visitStartTime</th>\n",
       "      <th>device.browser</th>\n",
       "      <th>device.operatingSystem</th>\n",
       "      <th>device.isMobile</th>\n",
       "      <th>device.deviceCategory</th>\n",
       "      <th>...</th>\n",
       "      <th>median_hits_per_day</th>\n",
       "      <th>sum_hits_per_day</th>\n",
       "      <th>min_hits_per_day</th>\n",
       "      <th>max_hits_per_day</th>\n",
       "      <th>mean_pageviews_per_day</th>\n",
       "      <th>median_pageviews_per_day</th>\n",
       "      <th>sum_pageviews_per_day</th>\n",
       "      <th>min_pageviews_per_day</th>\n",
       "      <th>max_pageviews_per_day</th>\n",
       "      <th>PredictedLogRevenue</th>\n",
       "    </tr>\n",
       "  </thead>\n",
       "  <tbody>\n",
       "    <tr>\n",
       "      <td>0</td>\n",
       "      <td>4</td>\n",
       "      <td>2017-10-16</td>\n",
       "      <td>6167871330617112363</td>\n",
       "      <td>1508151024</td>\n",
       "      <td>2</td>\n",
       "      <td>1508151024</td>\n",
       "      <td>49</td>\n",
       "      <td>7</td>\n",
       "      <td>0</td>\n",
       "      <td>1</td>\n",
       "      <td>...</td>\n",
       "      <td>0.000103</td>\n",
       "      <td>0.000378</td>\n",
       "      <td>0.000036</td>\n",
       "      <td>0.000697</td>\n",
       "      <td>0.000177</td>\n",
       "      <td>0.000097</td>\n",
       "      <td>0.000369</td>\n",
       "      <td>0.00004</td>\n",
       "      <td>0.000661</td>\n",
       "      <td>0.046814</td>\n",
       "    </tr>\n",
       "    <tr>\n",
       "      <td>289310</td>\n",
       "      <td>4</td>\n",
       "      <td>2017-09-18</td>\n",
       "      <td>6167871330617112363</td>\n",
       "      <td>1505751802</td>\n",
       "      <td>1</td>\n",
       "      <td>1505751802</td>\n",
       "      <td>49</td>\n",
       "      <td>7</td>\n",
       "      <td>0</td>\n",
       "      <td>1</td>\n",
       "      <td>...</td>\n",
       "      <td>0.000103</td>\n",
       "      <td>0.000378</td>\n",
       "      <td>0.000036</td>\n",
       "      <td>0.000697</td>\n",
       "      <td>0.000177</td>\n",
       "      <td>0.000097</td>\n",
       "      <td>0.000369</td>\n",
       "      <td>0.00004</td>\n",
       "      <td>0.000661</td>\n",
       "      <td>0.046672</td>\n",
       "    </tr>\n",
       "  </tbody>\n",
       "</table>\n",
       "<p>2 rows × 45 columns</p>\n",
       "</div>"
      ],
      "text/plain": [
       "        channelGrouping        date        fullVisitorId     visitId  \\\n",
       "0                     4  2017-10-16  6167871330617112363  1508151024   \n",
       "289310                4  2017-09-18  6167871330617112363  1505751802   \n",
       "\n",
       "        visitNumber  visitStartTime  device.browser  device.operatingSystem  \\\n",
       "0                 2      1508151024              49                       7   \n",
       "289310            1      1505751802              49                       7   \n",
       "\n",
       "        device.isMobile  device.deviceCategory  ...  median_hits_per_day  \\\n",
       "0                     0                      1  ...             0.000103   \n",
       "289310                0                      1  ...             0.000103   \n",
       "\n",
       "        sum_hits_per_day  min_hits_per_day  max_hits_per_day  \\\n",
       "0               0.000378          0.000036          0.000697   \n",
       "289310          0.000378          0.000036          0.000697   \n",
       "\n",
       "        mean_pageviews_per_day  median_pageviews_per_day  \\\n",
       "0                     0.000177                  0.000097   \n",
       "289310                0.000177                  0.000097   \n",
       "\n",
       "        sum_pageviews_per_day  min_pageviews_per_day  max_pageviews_per_day  \\\n",
       "0                    0.000369                0.00004               0.000661   \n",
       "289310               0.000369                0.00004               0.000661   \n",
       "\n",
       "        PredictedLogRevenue  \n",
       "0                  0.046814  \n",
       "289310             0.046672  \n",
       "\n",
       "[2 rows x 45 columns]"
      ]
     },
     "execution_count": 489,
     "metadata": {},
     "output_type": "execute_result"
    }
   ],
   "source": [
    "test['PredictedLogRevenue']=new_test[\"PredictedLogRevenue\"] #adding the predicted value to test data so that we can group with visitorID in the next step\n",
    "test.head(2)"
   ]
  },
  {
   "cell_type": "markdown",
   "metadata": {},
   "source": [
    "<h3> Checking the feature importance"
   ]
  },
  {
   "cell_type": "code",
   "execution_count": 490,
   "metadata": {},
   "outputs": [
    {
     "data": {
      "text/plain": [
       "Text(0.5, 1.0, 'LightGBM - Feature Importance')"
      ]
     },
     "execution_count": 490,
     "metadata": {},
     "output_type": "execute_result"
    },
    {
     "data": {
      "image/png": "[encoded data removed]",
      "text/plain": [
       "<Figure size 864x1296 with 1 Axes>"
      ]
     },
     "metadata": {
      "needs_background": "light"
     },
     "output_type": "display_data"
    }
   ],
   "source": [
    "fig, ax = plt.subplots(figsize=(12,18))\n",
    "lgb.plot_importance(clf, height=0.8, ax=ax)\n",
    "ax.grid(False)\n",
    "plt.title(\"LightGBM - Feature Importance\", fontsize=15)"
   ]
  },
  {
   "cell_type": "markdown",
   "metadata": {},
   "source": [
    "1. Waow! Looks like my engineered features tend to be significantly important for the model.\n",
    "2. Also total.hits and total.pageviews have the highest feature importance."
   ]
  },
  {
   "cell_type": "markdown",
   "metadata": {},
   "source": [
    "<h3>Preparing submission "
   ]
  },
  {
   "cell_type": "code",
   "execution_count": 491,
   "metadata": {},
   "outputs": [],
   "source": [
    "#grouping the visitorid and calculating the total predicted revenue- to get total predicted revenue per user\n",
    "submission = test.groupby(\"fullVisitorId\").agg({\"PredictedLogRevenue\" : \"sum\"}).reset_index()"
   ]
  },
  {
   "cell_type": "code",
   "execution_count": 492,
   "metadata": {},
   "outputs": [],
   "source": [
    "submission[\"PredictedLogRevenue\"] = np.log1p(submission[\"PredictedLogRevenue\"]) #storing the logarithmic form of the predicted value"
   ]
  },
  {
   "cell_type": "code",
   "execution_count": 493,
   "metadata": {},
   "outputs": [],
   "source": [
    "#there are negetive values too.\n",
    "#as revenue cannot be negetive, converting all negetive values to 0\n",
    "submission[\"PredictedLogRevenue\"] =  submission[\"PredictedLogRevenue\"].apply(lambda x : 0.0 if x < 0 else x)"
   ]
  },
  {
   "cell_type": "code",
   "execution_count": 494,
   "metadata": {},
   "outputs": [],
   "source": [
    "#saving the predicted result\n",
    "submission.to_csv(\"baseline.csv\", index=False)"
   ]
  },
  {
   "cell_type": "code",
   "execution_count": 495,
   "metadata": {},
   "outputs": [
    {
     "data": {
      "text/plain": [
       "(617242, 2)"
      ]
     },
     "execution_count": 495,
     "metadata": {},
     "output_type": "execute_result"
    }
   ],
   "source": [
    "submission.shape"
   ]
  },
  {
   "cell_type": "code",
   "execution_count": 496,
   "metadata": {},
   "outputs": [
    {
     "data": {
      "text/html": [
       "<div>\n",
       "<style scoped>\n",
       "    .dataframe tbody tr th:only-of-type {\n",
       "        vertical-align: middle;\n",
       "    }\n",
       "\n",
       "    .dataframe tbody tr th {\n",
       "        vertical-align: top;\n",
       "    }\n",
       "\n",
       "    .dataframe thead th {\n",
       "        text-align: right;\n",
       "    }\n",
       "</style>\n",
       "<table border=\"1\" class=\"dataframe\">\n",
       "  <thead>\n",
       "    <tr style=\"text-align: right;\">\n",
       "      <th></th>\n",
       "      <th>fullVisitorId</th>\n",
       "      <th>PredictedLogRevenue</th>\n",
       "    </tr>\n",
       "  </thead>\n",
       "  <tbody>\n",
       "    <tr>\n",
       "      <td>0</td>\n",
       "      <td>0000000259678714014</td>\n",
       "      <td>0.144509</td>\n",
       "    </tr>\n",
       "    <tr>\n",
       "      <td>1</td>\n",
       "      <td>0000049363351866189</td>\n",
       "      <td>0.132365</td>\n",
       "    </tr>\n",
       "    <tr>\n",
       "      <td>2</td>\n",
       "      <td>0000053049821714864</td>\n",
       "      <td>0.045778</td>\n",
       "    </tr>\n",
       "    <tr>\n",
       "      <td>3</td>\n",
       "      <td>0000059488412965267</td>\n",
       "      <td>0.140697</td>\n",
       "    </tr>\n",
       "    <tr>\n",
       "      <td>4</td>\n",
       "      <td>0000085840370633780</td>\n",
       "      <td>0.046592</td>\n",
       "    </tr>\n",
       "  </tbody>\n",
       "</table>\n",
       "</div>"
      ],
      "text/plain": [
       "         fullVisitorId  PredictedLogRevenue\n",
       "0  0000000259678714014             0.144509\n",
       "1  0000049363351866189             0.132365\n",
       "2  0000053049821714864             0.045778\n",
       "3  0000059488412965267             0.140697\n",
       "4  0000085840370633780             0.046592"
      ]
     },
     "execution_count": 496,
     "metadata": {},
     "output_type": "execute_result"
    }
   ],
   "source": [
    "submission.head(5)"
   ]
  },
  {
   "cell_type": "code",
   "execution_count": null,
   "metadata": {},
   "outputs": [],
   "source": []
  },
  {
   "cell_type": "code",
   "execution_count": null,
   "metadata": {},
   "outputs": [],
   "source": []
  }
 ],
 "metadata": {
  "kernelspec": {
   "display_name": "Python 3",
   "language": "python",
   "name": "python3"
  },
  "language_info": {
   "codemirror_mode": {
    "name": "ipython",
    "version": 3
   },
   "file_extension": ".py",
   "mimetype": "text/x-python",
   "name": "python",
   "nbconvert_exporter": "python",
   "pygments_lexer": "ipython3",
   "version": "3.7.4"
  }
 },
 "nbformat": 4,
 "nbformat_minor": 2
}
